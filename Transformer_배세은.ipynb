{
  "cells": [
    {
      "cell_type": "markdown",
      "source": [
        "# Transformer를 이용해 Question Answering task 수행하기\n"
      ],
      "metadata": {
        "id": "bPbaE9Wxjqd9"
      },
      "id": "bPbaE9Wxjqd9"
    },
    {
      "cell_type": "code",
      "execution_count": null,
      "id": "3a34d14b-38f5-4489-bf1a-6562c91e7a8a",
      "metadata": {
        "execution": {
          "iopub.execute_input": "2025-02-22T10:31:48.016199Z",
          "iopub.status.busy": "2025-02-22T10:31:48.015124Z",
          "iopub.status.idle": "2025-02-22T10:35:57.913237Z",
          "shell.execute_reply": "2025-02-22T10:35:57.911034Z",
          "shell.execute_reply.started": "2025-02-22T10:31:48.016134Z"
        },
        "scrolled": true,
        "id": "3a34d14b-38f5-4489-bf1a-6562c91e7a8a",
        "outputId": "ded4d8b4-5c35-4590-ac2e-070dca82fbdb"
      },
      "outputs": [
        {
          "name": "stdout",
          "output_type": "stream",
          "text": [
            "Defaulting to user installation because normal site-packages is not writeable\n",
            "Looking in indexes: http://repo.ai.gato/registry/repository/pypi-proxy/simple\n",
            "Collecting transformers==4.48.0\n",
            "  Using cached http://repo.ai.gato/registry/repository/pypi-proxy/packages/transformers/4.48.0/transformers-4.48.0-py3-none-any.whl (9.7 MB)\n",
            "Requirement already satisfied: filelock in /usr/gatoai/python/venv/3.10/lib/python3.10/site-packages (from transformers==4.48.0) (3.17.0)\n",
            "Requirement already satisfied: huggingface-hub<1.0,>=0.24.0 in /usr/gatoai/python/venv/3.10/lib/python3.10/site-packages (from transformers==4.48.0) (0.27.1)\n",
            "Requirement already satisfied: numpy>=1.17 in /usr/gatoai/python/venv/3.10/lib/python3.10/site-packages (from transformers==4.48.0) (1.26.4)\n",
            "Requirement already satisfied: packaging>=20.0 in /usr/gatoai/python/venv/jupyter-4.3.5-py3.10/lib/python3.10/site-packages (from transformers==4.48.0) (24.2)\n",
            "Requirement already satisfied: pyyaml>=5.1 in /usr/gatoai/python/venv/jupyter-4.3.5-py3.10/lib/python3.10/site-packages (from transformers==4.48.0) (6.0.2)\n",
            "Requirement already satisfied: regex!=2019.12.17 in /usr/gatoai/python/venv/3.10/lib/python3.10/site-packages (from transformers==4.48.0) (2024.11.6)\n",
            "Requirement already satisfied: requests in /usr/gatoai/python/venv/jupyter-4.3.5-py3.10/lib/python3.10/site-packages (from transformers==4.48.0) (2.32.3)\n",
            "Requirement already satisfied: tokenizers<0.22,>=0.21 in /usr/gatoai/python/venv/3.10/lib/python3.10/site-packages (from transformers==4.48.0) (0.21.0)\n",
            "Requirement already satisfied: safetensors>=0.4.1 in /usr/gatoai/python/venv/3.10/lib/python3.10/site-packages (from transformers==4.48.0) (0.5.2)\n",
            "Requirement already satisfied: tqdm>=4.27 in /usr/gatoai/python/venv/jupyter-4.3.5-py3.10/lib/python3.10/site-packages (from transformers==4.48.0) (4.67.1)\n",
            "Requirement already satisfied: fsspec>=2023.5.0 in /usr/gatoai/python/venv/jupyter-4.3.5-py3.10/lib/python3.10/site-packages (from huggingface-hub<1.0,>=0.24.0->transformers==4.48.0) (2025.2.0)\n",
            "Requirement already satisfied: typing-extensions>=3.7.4.3 in /usr/gatoai/python/venv/jupyter-4.3.5-py3.10/lib/python3.10/site-packages (from huggingface-hub<1.0,>=0.24.0->transformers==4.48.0) (4.12.2)\n",
            "Requirement already satisfied: charset-normalizer<4,>=2 in /usr/gatoai/python/venv/jupyter-4.3.5-py3.10/lib/python3.10/site-packages (from requests->transformers==4.48.0) (3.4.1)\n",
            "Requirement already satisfied: idna<4,>=2.5 in /usr/gatoai/python/venv/jupyter-4.3.5-py3.10/lib/python3.10/site-packages (from requests->transformers==4.48.0) (3.10)\n",
            "Requirement already satisfied: urllib3<3,>=1.21.1 in /usr/gatoai/python/venv/jupyter-4.3.5-py3.10/lib/python3.10/site-packages (from requests->transformers==4.48.0) (2.3.0)\n",
            "Requirement already satisfied: certifi>=2017.4.17 in /usr/gatoai/python/venv/jupyter-4.3.5-py3.10/lib/python3.10/site-packages (from requests->transformers==4.48.0) (2025.1.31)\n",
            "Installing collected packages: transformers\n",
            "Successfully installed transformers-4.48.0\n",
            "Defaulting to user installation because normal site-packages is not writeable\n",
            "Looking in indexes: http://repo.ai.gato/registry/repository/pypi-proxy/simple\n",
            "Requirement already satisfied: datasets in /usr/gatoai/python/venv/3.10/lib/python3.10/site-packages (3.3.2)\n",
            "Requirement already satisfied: filelock in /usr/gatoai/python/venv/3.10/lib/python3.10/site-packages (from datasets) (3.17.0)\n",
            "Requirement already satisfied: numpy>=1.17 in /usr/gatoai/python/venv/3.10/lib/python3.10/site-packages (from datasets) (1.26.4)\n",
            "Requirement already satisfied: pyarrow>=15.0.0 in /usr/gatoai/python/venv/jupyter-4.3.5-py3.10/lib/python3.10/site-packages (from datasets) (19.0.1)\n",
            "Requirement already satisfied: dill<0.3.9,>=0.3.0 in /usr/gatoai/python/venv/3.10/lib/python3.10/site-packages (from datasets) (0.3.8)\n",
            "Requirement already satisfied: pandas in /usr/gatoai/python/venv/jupyter-4.3.5-py3.10/lib/python3.10/site-packages (from datasets) (2.2.3)\n",
            "Requirement already satisfied: requests>=2.32.2 in /usr/gatoai/python/venv/jupyter-4.3.5-py3.10/lib/python3.10/site-packages (from datasets) (2.32.3)\n",
            "Requirement already satisfied: tqdm>=4.66.3 in /usr/gatoai/python/venv/jupyter-4.3.5-py3.10/lib/python3.10/site-packages (from datasets) (4.67.1)\n",
            "Requirement already satisfied: xxhash in /usr/gatoai/python/venv/3.10/lib/python3.10/site-packages (from datasets) (3.5.0)\n",
            "Requirement already satisfied: multiprocess<0.70.17 in /usr/gatoai/python/venv/3.10/lib/python3.10/site-packages (from datasets) (0.70.16)\n",
            "Collecting fsspec<=2024.12.0,>=2023.1.0 (from fsspec[http]<=2024.12.0,>=2023.1.0->datasets)\n",
            "  Using cached http://repo.ai.gato/registry/repository/pypi-proxy/packages/fsspec/2024.12.0/fsspec-2024.12.0-py3-none-any.whl (183 kB)\n",
            "Requirement already satisfied: aiohttp in /usr/gatoai/python/venv/jupyter-4.3.5-py3.10/lib/python3.10/site-packages (from datasets) (3.11.12)\n",
            "Requirement already satisfied: huggingface-hub>=0.24.0 in /usr/gatoai/python/venv/3.10/lib/python3.10/site-packages (from datasets) (0.27.1)\n",
            "Requirement already satisfied: packaging in /usr/gatoai/python/venv/jupyter-4.3.5-py3.10/lib/python3.10/site-packages (from datasets) (24.2)\n",
            "Requirement already satisfied: pyyaml>=5.1 in /usr/gatoai/python/venv/jupyter-4.3.5-py3.10/lib/python3.10/site-packages (from datasets) (6.0.2)\n",
            "Requirement already satisfied: aiohappyeyeballs>=2.3.0 in /usr/gatoai/python/venv/jupyter-4.3.5-py3.10/lib/python3.10/site-packages (from aiohttp->datasets) (2.4.6)\n",
            "Requirement already satisfied: aiosignal>=1.1.2 in /usr/gatoai/python/venv/jupyter-4.3.5-py3.10/lib/python3.10/site-packages (from aiohttp->datasets) (1.3.2)\n",
            "Requirement already satisfied: async-timeout<6.0,>=4.0 in /usr/gatoai/python/venv/jupyter-4.3.5-py3.10/lib/python3.10/site-packages (from aiohttp->datasets) (5.0.1)\n",
            "Requirement already satisfied: attrs>=17.3.0 in /usr/gatoai/python/venv/jupyter-4.3.5-py3.10/lib/python3.10/site-packages (from aiohttp->datasets) (25.1.0)\n",
            "Requirement already satisfied: frozenlist>=1.1.1 in /usr/gatoai/python/venv/jupyter-4.3.5-py3.10/lib/python3.10/site-packages (from aiohttp->datasets) (1.5.0)\n",
            "Requirement already satisfied: multidict<7.0,>=4.5 in /usr/gatoai/python/venv/jupyter-4.3.5-py3.10/lib/python3.10/site-packages (from aiohttp->datasets) (6.1.0)\n",
            "Requirement already satisfied: propcache>=0.2.0 in /usr/gatoai/python/venv/jupyter-4.3.5-py3.10/lib/python3.10/site-packages (from aiohttp->datasets) (0.3.0)\n",
            "Requirement already satisfied: yarl<2.0,>=1.17.0 in /usr/gatoai/python/venv/jupyter-4.3.5-py3.10/lib/python3.10/site-packages (from aiohttp->datasets) (1.18.3)\n",
            "Requirement already satisfied: typing-extensions>=3.7.4.3 in /usr/gatoai/python/venv/jupyter-4.3.5-py3.10/lib/python3.10/site-packages (from huggingface-hub>=0.24.0->datasets) (4.12.2)\n",
            "Requirement already satisfied: charset-normalizer<4,>=2 in /usr/gatoai/python/venv/jupyter-4.3.5-py3.10/lib/python3.10/site-packages (from requests>=2.32.2->datasets) (3.4.1)\n",
            "Requirement already satisfied: idna<4,>=2.5 in /usr/gatoai/python/venv/jupyter-4.3.5-py3.10/lib/python3.10/site-packages (from requests>=2.32.2->datasets) (3.10)\n",
            "Requirement already satisfied: urllib3<3,>=1.21.1 in /usr/gatoai/python/venv/jupyter-4.3.5-py3.10/lib/python3.10/site-packages (from requests>=2.32.2->datasets) (2.3.0)\n",
            "Requirement already satisfied: certifi>=2017.4.17 in /usr/gatoai/python/venv/jupyter-4.3.5-py3.10/lib/python3.10/site-packages (from requests>=2.32.2->datasets) (2025.1.31)\n",
            "Requirement already satisfied: python-dateutil>=2.8.2 in /usr/gatoai/python/venv/jupyter-4.3.5-py3.10/lib/python3.10/site-packages (from pandas->datasets) (2.9.0.post0)\n",
            "Requirement already satisfied: pytz>=2020.1 in /usr/gatoai/python/venv/jupyter-4.3.5-py3.10/lib/python3.10/site-packages (from pandas->datasets) (2025.1)\n",
            "Requirement already satisfied: tzdata>=2022.7 in /usr/gatoai/python/venv/jupyter-4.3.5-py3.10/lib/python3.10/site-packages (from pandas->datasets) (2025.1)\n",
            "Requirement already satisfied: six>=1.5 in /usr/gatoai/python/venv/jupyter-4.3.5-py3.10/lib/python3.10/site-packages (from python-dateutil>=2.8.2->pandas->datasets) (1.17.0)\n",
            "Installing collected packages: fsspec\n",
            "\u001b[31mERROR: pip's dependency resolver does not currently take into account all the packages that are installed. This behaviour is the source of the following dependency conflicts.\n",
            "cudf-cu12 24.12.0 requires numba-cuda<0.0.18,>=0.0.13, which is not installed.\n",
            "s3fs 2025.2.0 requires fsspec==2025.2.0.*, but you have fsspec 2024.12.0 which is incompatible.\n",
            "cudf-cu12 24.12.0 requires pyarrow<19.0.0a0,>=14.0.0; platform_machine == \"x86_64\", but you have pyarrow 19.0.1 which is incompatible.\n",
            "torch 2.5.1 requires sympy==1.13.1; python_version >= \"3.9\", but you have sympy 1.13.3 which is incompatible.\u001b[0m\u001b[31m\n",
            "\u001b[0mSuccessfully installed fsspec-2024.12.0\n",
            "Defaulting to user installation because normal site-packages is not writeable\n",
            "Looking in indexes: http://repo.ai.gato/registry/repository/pypi-proxy/simple\n",
            "Requirement already satisfied: bitsandbytes in ./.local/lib/python3.10/site-packages (0.45.2)\n",
            "Requirement already satisfied: torch<3,>=2.0 in ./.local/lib/python3.10/site-packages (from bitsandbytes) (2.5.1)\n",
            "Requirement already satisfied: numpy>=1.17 in /usr/gatoai/python/venv/3.10/lib/python3.10/site-packages (from bitsandbytes) (1.26.4)\n",
            "Requirement already satisfied: filelock in /usr/gatoai/python/venv/3.10/lib/python3.10/site-packages (from torch<3,>=2.0->bitsandbytes) (3.17.0)\n",
            "Requirement already satisfied: typing-extensions>=4.8.0 in /usr/gatoai/python/venv/jupyter-4.3.5-py3.10/lib/python3.10/site-packages (from torch<3,>=2.0->bitsandbytes) (4.12.2)\n",
            "Requirement already satisfied: networkx in /usr/gatoai/python/venv/jupyter-4.3.5-py3.10/lib/python3.10/site-packages (from torch<3,>=2.0->bitsandbytes) (3.4.2)\n",
            "Requirement already satisfied: jinja2 in /usr/gatoai/python/venv/jupyter-4.3.5-py3.10/lib/python3.10/site-packages (from torch<3,>=2.0->bitsandbytes) (3.1.5)\n",
            "Requirement already satisfied: fsspec in /usr/gatoai/python/venv/jupyter-4.3.5-py3.10/lib/python3.10/site-packages (from torch<3,>=2.0->bitsandbytes) (2025.2.0)\n",
            "Requirement already satisfied: nvidia-cuda-nvrtc-cu12==12.4.127 in ./.local/lib/python3.10/site-packages (from torch<3,>=2.0->bitsandbytes) (12.4.127)\n",
            "Requirement already satisfied: nvidia-cuda-runtime-cu12==12.4.127 in ./.local/lib/python3.10/site-packages (from torch<3,>=2.0->bitsandbytes) (12.4.127)\n",
            "Requirement already satisfied: nvidia-cuda-cupti-cu12==12.4.127 in ./.local/lib/python3.10/site-packages (from torch<3,>=2.0->bitsandbytes) (12.4.127)\n",
            "Requirement already satisfied: nvidia-cudnn-cu12==9.1.0.70 in ./.local/lib/python3.10/site-packages (from torch<3,>=2.0->bitsandbytes) (9.1.0.70)\n",
            "Requirement already satisfied: nvidia-cublas-cu12==12.4.5.8 in ./.local/lib/python3.10/site-packages (from torch<3,>=2.0->bitsandbytes) (12.4.5.8)\n",
            "Requirement already satisfied: nvidia-cufft-cu12==11.2.1.3 in ./.local/lib/python3.10/site-packages (from torch<3,>=2.0->bitsandbytes) (11.2.1.3)\n",
            "Requirement already satisfied: nvidia-curand-cu12==10.3.5.147 in ./.local/lib/python3.10/site-packages (from torch<3,>=2.0->bitsandbytes) (10.3.5.147)\n",
            "Requirement already satisfied: nvidia-cusolver-cu12==11.6.1.9 in ./.local/lib/python3.10/site-packages (from torch<3,>=2.0->bitsandbytes) (11.6.1.9)\n",
            "Requirement already satisfied: nvidia-cusparse-cu12==12.3.1.170 in ./.local/lib/python3.10/site-packages (from torch<3,>=2.0->bitsandbytes) (12.3.1.170)\n",
            "Requirement already satisfied: nvidia-nccl-cu12==2.21.5 in ./.local/lib/python3.10/site-packages (from torch<3,>=2.0->bitsandbytes) (2.21.5)\n",
            "Requirement already satisfied: nvidia-nvtx-cu12==12.4.127 in ./.local/lib/python3.10/site-packages (from torch<3,>=2.0->bitsandbytes) (12.4.127)\n",
            "Requirement already satisfied: nvidia-nvjitlink-cu12==12.4.127 in ./.local/lib/python3.10/site-packages (from torch<3,>=2.0->bitsandbytes) (12.4.127)\n",
            "Requirement already satisfied: triton==3.1.0 in /usr/gatoai/python/venv/3.10/lib/python3.10/site-packages (from torch<3,>=2.0->bitsandbytes) (3.1.0)\n",
            "Collecting sympy==1.13.1 (from torch<3,>=2.0->bitsandbytes)\n",
            "  Using cached http://repo.ai.gato/registry/repository/pypi-proxy/packages/sympy/1.13.1/sympy-1.13.1-py3-none-any.whl (6.2 MB)\n",
            "Requirement already satisfied: mpmath<1.4,>=1.1.0 in /usr/gatoai/python/venv/3.10/lib/python3.10/site-packages (from sympy==1.13.1->torch<3,>=2.0->bitsandbytes) (1.3.0)\n",
            "Requirement already satisfied: MarkupSafe>=2.0 in /usr/gatoai/python/venv/jupyter-4.3.5-py3.10/lib/python3.10/site-packages (from jinja2->torch<3,>=2.0->bitsandbytes) (3.0.2)\n",
            "Installing collected packages: sympy\n",
            "Successfully installed sympy-1.13.1\n",
            "Defaulting to user installation because normal site-packages is not writeable\n",
            "Looking in indexes: http://repo.ai.gato/registry/repository/pypi-proxy/simple\n",
            "Requirement already satisfied: accelerate in ./.local/lib/python3.10/site-packages (1.4.0)\n",
            "Requirement already satisfied: numpy<3.0.0,>=1.17 in /usr/gatoai/python/venv/3.10/lib/python3.10/site-packages (from accelerate) (1.26.4)\n",
            "Requirement already satisfied: packaging>=20.0 in /usr/gatoai/python/venv/jupyter-4.3.5-py3.10/lib/python3.10/site-packages (from accelerate) (24.2)\n",
            "Requirement already satisfied: psutil in /usr/gatoai/python/venv/jupyter-4.3.5-py3.10/lib/python3.10/site-packages (from accelerate) (7.0.0)\n",
            "Requirement already satisfied: pyyaml in /usr/gatoai/python/venv/jupyter-4.3.5-py3.10/lib/python3.10/site-packages (from accelerate) (6.0.2)\n",
            "Requirement already satisfied: torch>=2.0.0 in ./.local/lib/python3.10/site-packages (from accelerate) (2.5.1)\n",
            "Requirement already satisfied: huggingface-hub>=0.21.0 in /usr/gatoai/python/venv/3.10/lib/python3.10/site-packages (from accelerate) (0.27.1)\n",
            "Requirement already satisfied: safetensors>=0.4.3 in /usr/gatoai/python/venv/3.10/lib/python3.10/site-packages (from accelerate) (0.5.2)\n",
            "Requirement already satisfied: filelock in /usr/gatoai/python/venv/3.10/lib/python3.10/site-packages (from huggingface-hub>=0.21.0->accelerate) (3.17.0)\n",
            "Requirement already satisfied: fsspec>=2023.5.0 in /usr/gatoai/python/venv/jupyter-4.3.5-py3.10/lib/python3.10/site-packages (from huggingface-hub>=0.21.0->accelerate) (2025.2.0)\n",
            "Requirement already satisfied: requests in /usr/gatoai/python/venv/jupyter-4.3.5-py3.10/lib/python3.10/site-packages (from huggingface-hub>=0.21.0->accelerate) (2.32.3)\n",
            "Requirement already satisfied: tqdm>=4.42.1 in /usr/gatoai/python/venv/jupyter-4.3.5-py3.10/lib/python3.10/site-packages (from huggingface-hub>=0.21.0->accelerate) (4.67.1)\n",
            "Requirement already satisfied: typing-extensions>=3.7.4.3 in /usr/gatoai/python/venv/jupyter-4.3.5-py3.10/lib/python3.10/site-packages (from huggingface-hub>=0.21.0->accelerate) (4.12.2)\n",
            "Requirement already satisfied: networkx in /usr/gatoai/python/venv/jupyter-4.3.5-py3.10/lib/python3.10/site-packages (from torch>=2.0.0->accelerate) (3.4.2)\n",
            "Requirement already satisfied: jinja2 in /usr/gatoai/python/venv/jupyter-4.3.5-py3.10/lib/python3.10/site-packages (from torch>=2.0.0->accelerate) (3.1.5)\n",
            "Requirement already satisfied: nvidia-cuda-nvrtc-cu12==12.4.127 in ./.local/lib/python3.10/site-packages (from torch>=2.0.0->accelerate) (12.4.127)\n",
            "Requirement already satisfied: nvidia-cuda-runtime-cu12==12.4.127 in ./.local/lib/python3.10/site-packages (from torch>=2.0.0->accelerate) (12.4.127)\n",
            "Requirement already satisfied: nvidia-cuda-cupti-cu12==12.4.127 in ./.local/lib/python3.10/site-packages (from torch>=2.0.0->accelerate) (12.4.127)\n",
            "Requirement already satisfied: nvidia-cudnn-cu12==9.1.0.70 in ./.local/lib/python3.10/site-packages (from torch>=2.0.0->accelerate) (9.1.0.70)\n",
            "Requirement already satisfied: nvidia-cublas-cu12==12.4.5.8 in ./.local/lib/python3.10/site-packages (from torch>=2.0.0->accelerate) (12.4.5.8)\n",
            "Requirement already satisfied: nvidia-cufft-cu12==11.2.1.3 in ./.local/lib/python3.10/site-packages (from torch>=2.0.0->accelerate) (11.2.1.3)\n",
            "Requirement already satisfied: nvidia-curand-cu12==10.3.5.147 in ./.local/lib/python3.10/site-packages (from torch>=2.0.0->accelerate) (10.3.5.147)\n",
            "Requirement already satisfied: nvidia-cusolver-cu12==11.6.1.9 in ./.local/lib/python3.10/site-packages (from torch>=2.0.0->accelerate) (11.6.1.9)\n",
            "Requirement already satisfied: nvidia-cusparse-cu12==12.3.1.170 in ./.local/lib/python3.10/site-packages (from torch>=2.0.0->accelerate) (12.3.1.170)\n",
            "Requirement already satisfied: nvidia-nccl-cu12==2.21.5 in ./.local/lib/python3.10/site-packages (from torch>=2.0.0->accelerate) (2.21.5)\n",
            "Requirement already satisfied: nvidia-nvtx-cu12==12.4.127 in ./.local/lib/python3.10/site-packages (from torch>=2.0.0->accelerate) (12.4.127)\n",
            "Requirement already satisfied: nvidia-nvjitlink-cu12==12.4.127 in ./.local/lib/python3.10/site-packages (from torch>=2.0.0->accelerate) (12.4.127)\n",
            "Requirement already satisfied: triton==3.1.0 in /usr/gatoai/python/venv/3.10/lib/python3.10/site-packages (from torch>=2.0.0->accelerate) (3.1.0)\n",
            "Collecting sympy==1.13.1 (from torch>=2.0.0->accelerate)\n",
            "  Using cached http://repo.ai.gato/registry/repository/pypi-proxy/packages/sympy/1.13.1/sympy-1.13.1-py3-none-any.whl (6.2 MB)\n",
            "Requirement already satisfied: mpmath<1.4,>=1.1.0 in /usr/gatoai/python/venv/3.10/lib/python3.10/site-packages (from sympy==1.13.1->torch>=2.0.0->accelerate) (1.3.0)\n",
            "Requirement already satisfied: MarkupSafe>=2.0 in /usr/gatoai/python/venv/jupyter-4.3.5-py3.10/lib/python3.10/site-packages (from jinja2->torch>=2.0.0->accelerate) (3.0.2)\n",
            "Requirement already satisfied: charset-normalizer<4,>=2 in /usr/gatoai/python/venv/jupyter-4.3.5-py3.10/lib/python3.10/site-packages (from requests->huggingface-hub>=0.21.0->accelerate) (3.4.1)\n",
            "Requirement already satisfied: idna<4,>=2.5 in /usr/gatoai/python/venv/jupyter-4.3.5-py3.10/lib/python3.10/site-packages (from requests->huggingface-hub>=0.21.0->accelerate) (3.10)\n",
            "Requirement already satisfied: urllib3<3,>=1.21.1 in /usr/gatoai/python/venv/jupyter-4.3.5-py3.10/lib/python3.10/site-packages (from requests->huggingface-hub>=0.21.0->accelerate) (2.3.0)\n",
            "Requirement already satisfied: certifi>=2017.4.17 in /usr/gatoai/python/venv/jupyter-4.3.5-py3.10/lib/python3.10/site-packages (from requests->huggingface-hub>=0.21.0->accelerate) (2025.1.31)\n",
            "Installing collected packages: sympy\n",
            "Successfully installed sympy-1.13.1\n",
            "Defaulting to user installation because normal site-packages is not writeable\n",
            "Looking in indexes: http://repo.ai.gato/registry/repository/pypi-proxy/simple\n",
            "Requirement already satisfied: peft in ./.local/lib/python3.10/site-packages (0.14.0)\n",
            "Requirement already satisfied: numpy>=1.17 in /usr/gatoai/python/venv/3.10/lib/python3.10/site-packages (from peft) (1.26.4)\n",
            "Requirement already satisfied: packaging>=20.0 in /usr/gatoai/python/venv/jupyter-4.3.5-py3.10/lib/python3.10/site-packages (from peft) (24.2)\n",
            "Requirement already satisfied: psutil in /usr/gatoai/python/venv/jupyter-4.3.5-py3.10/lib/python3.10/site-packages (from peft) (7.0.0)\n",
            "Requirement already satisfied: pyyaml in /usr/gatoai/python/venv/jupyter-4.3.5-py3.10/lib/python3.10/site-packages (from peft) (6.0.2)\n",
            "Requirement already satisfied: torch>=1.13.0 in ./.local/lib/python3.10/site-packages (from peft) (2.5.1)\n",
            "Requirement already satisfied: transformers in /usr/gatoai/python/venv/3.10/lib/python3.10/site-packages (from peft) (4.49.0)\n",
            "Requirement already satisfied: tqdm in /usr/gatoai/python/venv/jupyter-4.3.5-py3.10/lib/python3.10/site-packages (from peft) (4.67.1)\n",
            "Requirement already satisfied: accelerate>=0.21.0 in ./.local/lib/python3.10/site-packages (from peft) (1.4.0)\n",
            "Requirement already satisfied: safetensors in /usr/gatoai/python/venv/3.10/lib/python3.10/site-packages (from peft) (0.5.2)\n",
            "Requirement already satisfied: huggingface-hub>=0.25.0 in /usr/gatoai/python/venv/3.10/lib/python3.10/site-packages (from peft) (0.27.1)\n",
            "Requirement already satisfied: filelock in /usr/gatoai/python/venv/3.10/lib/python3.10/site-packages (from huggingface-hub>=0.25.0->peft) (3.17.0)\n",
            "Requirement already satisfied: fsspec>=2023.5.0 in /usr/gatoai/python/venv/jupyter-4.3.5-py3.10/lib/python3.10/site-packages (from huggingface-hub>=0.25.0->peft) (2025.2.0)\n",
            "Requirement already satisfied: requests in /usr/gatoai/python/venv/jupyter-4.3.5-py3.10/lib/python3.10/site-packages (from huggingface-hub>=0.25.0->peft) (2.32.3)\n",
            "Requirement already satisfied: typing-extensions>=3.7.4.3 in /usr/gatoai/python/venv/jupyter-4.3.5-py3.10/lib/python3.10/site-packages (from huggingface-hub>=0.25.0->peft) (4.12.2)\n",
            "Requirement already satisfied: networkx in /usr/gatoai/python/venv/jupyter-4.3.5-py3.10/lib/python3.10/site-packages (from torch>=1.13.0->peft) (3.4.2)\n",
            "Requirement already satisfied: jinja2 in /usr/gatoai/python/venv/jupyter-4.3.5-py3.10/lib/python3.10/site-packages (from torch>=1.13.0->peft) (3.1.5)\n",
            "Requirement already satisfied: nvidia-cuda-nvrtc-cu12==12.4.127 in ./.local/lib/python3.10/site-packages (from torch>=1.13.0->peft) (12.4.127)\n",
            "Requirement already satisfied: nvidia-cuda-runtime-cu12==12.4.127 in ./.local/lib/python3.10/site-packages (from torch>=1.13.0->peft) (12.4.127)\n",
            "Requirement already satisfied: nvidia-cuda-cupti-cu12==12.4.127 in ./.local/lib/python3.10/site-packages (from torch>=1.13.0->peft) (12.4.127)\n",
            "Requirement already satisfied: nvidia-cudnn-cu12==9.1.0.70 in ./.local/lib/python3.10/site-packages (from torch>=1.13.0->peft) (9.1.0.70)\n",
            "Requirement already satisfied: nvidia-cublas-cu12==12.4.5.8 in ./.local/lib/python3.10/site-packages (from torch>=1.13.0->peft) (12.4.5.8)\n",
            "Requirement already satisfied: nvidia-cufft-cu12==11.2.1.3 in ./.local/lib/python3.10/site-packages (from torch>=1.13.0->peft) (11.2.1.3)\n",
            "Requirement already satisfied: nvidia-curand-cu12==10.3.5.147 in ./.local/lib/python3.10/site-packages (from torch>=1.13.0->peft) (10.3.5.147)\n",
            "Requirement already satisfied: nvidia-cusolver-cu12==11.6.1.9 in ./.local/lib/python3.10/site-packages (from torch>=1.13.0->peft) (11.6.1.9)\n",
            "Requirement already satisfied: nvidia-cusparse-cu12==12.3.1.170 in ./.local/lib/python3.10/site-packages (from torch>=1.13.0->peft) (12.3.1.170)\n",
            "Requirement already satisfied: nvidia-nccl-cu12==2.21.5 in ./.local/lib/python3.10/site-packages (from torch>=1.13.0->peft) (2.21.5)\n",
            "Requirement already satisfied: nvidia-nvtx-cu12==12.4.127 in ./.local/lib/python3.10/site-packages (from torch>=1.13.0->peft) (12.4.127)\n",
            "Requirement already satisfied: nvidia-nvjitlink-cu12==12.4.127 in ./.local/lib/python3.10/site-packages (from torch>=1.13.0->peft) (12.4.127)\n",
            "Requirement already satisfied: triton==3.1.0 in /usr/gatoai/python/venv/3.10/lib/python3.10/site-packages (from torch>=1.13.0->peft) (3.1.0)\n",
            "Collecting sympy==1.13.1 (from torch>=1.13.0->peft)\n",
            "  Using cached http://repo.ai.gato/registry/repository/pypi-proxy/packages/sympy/1.13.1/sympy-1.13.1-py3-none-any.whl (6.2 MB)\n",
            "Requirement already satisfied: mpmath<1.4,>=1.1.0 in /usr/gatoai/python/venv/3.10/lib/python3.10/site-packages (from sympy==1.13.1->torch>=1.13.0->peft) (1.3.0)\n",
            "Requirement already satisfied: regex!=2019.12.17 in /usr/gatoai/python/venv/3.10/lib/python3.10/site-packages (from transformers->peft) (2024.11.6)\n",
            "Requirement already satisfied: tokenizers<0.22,>=0.21 in /usr/gatoai/python/venv/3.10/lib/python3.10/site-packages (from transformers->peft) (0.21.0)\n",
            "Requirement already satisfied: MarkupSafe>=2.0 in /usr/gatoai/python/venv/jupyter-4.3.5-py3.10/lib/python3.10/site-packages (from jinja2->torch>=1.13.0->peft) (3.0.2)\n",
            "Requirement already satisfied: charset-normalizer<4,>=2 in /usr/gatoai/python/venv/jupyter-4.3.5-py3.10/lib/python3.10/site-packages (from requests->huggingface-hub>=0.25.0->peft) (3.4.1)\n",
            "Requirement already satisfied: idna<4,>=2.5 in /usr/gatoai/python/venv/jupyter-4.3.5-py3.10/lib/python3.10/site-packages (from requests->huggingface-hub>=0.25.0->peft) (3.10)\n",
            "Requirement already satisfied: urllib3<3,>=1.21.1 in /usr/gatoai/python/venv/jupyter-4.3.5-py3.10/lib/python3.10/site-packages (from requests->huggingface-hub>=0.25.0->peft) (2.3.0)\n",
            "Requirement already satisfied: certifi>=2017.4.17 in /usr/gatoai/python/venv/jupyter-4.3.5-py3.10/lib/python3.10/site-packages (from requests->huggingface-hub>=0.25.0->peft) (2025.1.31)\n",
            "Installing collected packages: sympy\n",
            "Successfully installed sympy-1.13.1\n",
            "Defaulting to user installation because normal site-packages is not writeable\n",
            "Looking in indexes: http://repo.ai.gato/registry/repository/pypi-proxy/simple\n",
            "Requirement already satisfied: wandb in /usr/gatoai/python/venv/3.10/lib/python3.10/site-packages (0.19.7)\n",
            "Requirement already satisfied: click!=8.0.0,>=7.1 in /usr/gatoai/python/venv/jupyter-4.3.5-py3.10/lib/python3.10/site-packages (from wandb) (8.1.8)\n",
            "Requirement already satisfied: docker-pycreds>=0.4.0 in /usr/gatoai/python/venv/3.10/lib/python3.10/site-packages (from wandb) (0.4.0)\n",
            "Requirement already satisfied: gitpython!=3.1.29,>=1.0.0 in /usr/gatoai/python/venv/jupyter-4.3.5-py3.10/lib/python3.10/site-packages (from wandb) (3.1.44)\n",
            "Requirement already satisfied: platformdirs in /usr/gatoai/python/venv/jupyter-4.3.5-py3.10/lib/python3.10/site-packages (from wandb) (4.3.6)\n",
            "Requirement already satisfied: protobuf!=4.21.0,!=5.28.0,<6,>=3.19.0 in /usr/gatoai/python/venv/3.10/lib/python3.10/site-packages (from wandb) (4.25.6)\n",
            "Requirement already satisfied: psutil>=5.0.0 in /usr/gatoai/python/venv/jupyter-4.3.5-py3.10/lib/python3.10/site-packages (from wandb) (7.0.0)\n",
            "Requirement already satisfied: pydantic<3,>=2.6 in /usr/gatoai/python/venv/3.10/lib/python3.10/site-packages (from wandb) (2.10.6)\n",
            "Requirement already satisfied: pyyaml in /usr/gatoai/python/venv/jupyter-4.3.5-py3.10/lib/python3.10/site-packages (from wandb) (6.0.2)\n",
            "Requirement already satisfied: requests<3,>=2.0.0 in /usr/gatoai/python/venv/jupyter-4.3.5-py3.10/lib/python3.10/site-packages (from wandb) (2.32.3)\n",
            "Requirement already satisfied: sentry-sdk>=2.0.0 in /usr/gatoai/python/venv/3.10/lib/python3.10/site-packages (from wandb) (2.22.0)\n",
            "Requirement already satisfied: setproctitle in /usr/gatoai/python/venv/3.10/lib/python3.10/site-packages (from wandb) (1.3.4)\n",
            "Requirement already satisfied: setuptools in /opt/python/lib/python3.10/site-packages (from wandb) (75.8.0)\n",
            "Requirement already satisfied: typing-extensions<5,>=4.4 in /usr/gatoai/python/venv/jupyter-4.3.5-py3.10/lib/python3.10/site-packages (from wandb) (4.12.2)\n",
            "Requirement already satisfied: six>=1.4.0 in /usr/gatoai/python/venv/jupyter-4.3.5-py3.10/lib/python3.10/site-packages (from docker-pycreds>=0.4.0->wandb) (1.17.0)\n",
            "Requirement already satisfied: gitdb<5,>=4.0.1 in /usr/gatoai/python/venv/jupyter-4.3.5-py3.10/lib/python3.10/site-packages (from gitpython!=3.1.29,>=1.0.0->wandb) (4.0.12)\n",
            "Requirement already satisfied: annotated-types>=0.6.0 in /usr/gatoai/python/venv/jupyter-4.3.5-py3.10/lib/python3.10/site-packages (from pydantic<3,>=2.6->wandb) (0.7.0)\n",
            "Requirement already satisfied: pydantic-core==2.27.2 in /usr/gatoai/python/venv/3.10/lib/python3.10/site-packages (from pydantic<3,>=2.6->wandb) (2.27.2)\n",
            "Requirement already satisfied: charset-normalizer<4,>=2 in /usr/gatoai/python/venv/jupyter-4.3.5-py3.10/lib/python3.10/site-packages (from requests<3,>=2.0.0->wandb) (3.4.1)\n",
            "Requirement already satisfied: idna<4,>=2.5 in /usr/gatoai/python/venv/jupyter-4.3.5-py3.10/lib/python3.10/site-packages (from requests<3,>=2.0.0->wandb) (3.10)\n",
            "Requirement already satisfied: urllib3<3,>=1.21.1 in /usr/gatoai/python/venv/jupyter-4.3.5-py3.10/lib/python3.10/site-packages (from requests<3,>=2.0.0->wandb) (2.3.0)\n",
            "Requirement already satisfied: certifi>=2017.4.17 in /usr/gatoai/python/venv/jupyter-4.3.5-py3.10/lib/python3.10/site-packages (from requests<3,>=2.0.0->wandb) (2025.1.31)\n",
            "Requirement already satisfied: smmap<6,>=3.0.1 in /usr/gatoai/python/venv/jupyter-4.3.5-py3.10/lib/python3.10/site-packages (from gitdb<5,>=4.0.1->gitpython!=3.1.29,>=1.0.0->wandb) (5.0.2)\n"
          ]
        }
      ],
      "source": [
        "!pip install -U transformers==4.48.0\n",
        "!pip install -U datasets\n",
        "!pip install -U bitsandbytes\n",
        "!pip install -U accelerate\n",
        "!pip install -U peft\n",
        "!pip install -U wandb"
      ]
    },
    {
      "cell_type": "code",
      "execution_count": null,
      "id": "989ee2d7-a992-4ccf-881f-8e819d28dea8",
      "metadata": {
        "execution": {
          "iopub.execute_input": "2025-02-22T10:35:57.918991Z",
          "iopub.status.busy": "2025-02-22T10:35:57.917877Z",
          "iopub.status.idle": "2025-02-22T10:36:18.672709Z",
          "shell.execute_reply": "2025-02-22T10:36:18.671333Z",
          "shell.execute_reply.started": "2025-02-22T10:35:57.918903Z"
        },
        "id": "989ee2d7-a992-4ccf-881f-8e819d28dea8",
        "outputId": "ee602db2-489e-4569-941e-786c8f4abe9b"
      },
      "outputs": [
        {
          "name": "stdout",
          "output_type": "stream",
          "text": [
            "4.49.0\n"
          ]
        }
      ],
      "source": [
        "import transformers\n",
        "print(transformers.__version__)"
      ]
    },
    {
      "cell_type": "code",
      "execution_count": null,
      "id": "dfcac266-1131-4aa0-a9bd-d33f1a6a43e3",
      "metadata": {
        "execution": {
          "iopub.execute_input": "2025-02-22T10:36:18.674099Z",
          "iopub.status.busy": "2025-02-22T10:36:18.673754Z",
          "iopub.status.idle": "2025-02-22T10:36:35.701089Z",
          "shell.execute_reply": "2025-02-22T10:36:35.699318Z",
          "shell.execute_reply.started": "2025-02-22T10:36:18.674073Z"
        },
        "id": "dfcac266-1131-4aa0-a9bd-d33f1a6a43e3"
      },
      "outputs": [],
      "source": [
        "import os\n",
        "import torch\n",
        "import numpy as np\n",
        "import matplotlib.pyplot as plt\n",
        "from transformers import AutoTokenizer, AutoModelForCausalLM, TrainingArguments, Trainer, BitsAndBytesConfig, get_linear_schedule_with_warmup\n",
        "from datasets import load_dataset\n",
        "from peft import LoraConfig, get_peft_model, prepare_model_for_kbit_training\n",
        "from tqdm.auto import tqdm\n",
        "from huggingface_hub import login"
      ]
    },
    {
      "cell_type": "code",
      "execution_count": null,
      "id": "23dd242e-7ec1-4349-bb05-5ca9007885fc",
      "metadata": {
        "execution": {
          "iopub.execute_input": "2025-02-22T10:36:35.707528Z",
          "iopub.status.busy": "2025-02-22T10:36:35.706493Z",
          "iopub.status.idle": "2025-02-22T10:36:36.033827Z",
          "shell.execute_reply": "2025-02-22T10:36:36.032196Z",
          "shell.execute_reply.started": "2025-02-22T10:36:35.707472Z"
        },
        "id": "23dd242e-7ec1-4349-bb05-5ca9007885fc"
      },
      "outputs": [],
      "source": [
        "login(\"secret\")"
      ]
    },
    {
      "cell_type": "markdown",
      "source": [
        "## 1. 데이터 전처리\n",
        "- 사용해야 할 데이터는 **KorQuAD(Korean Question Answering Dataset)**로, 한국어로 된 질문과 답변 쌍을 포함하고 있으며 주어진 문서 내에서 관련된 정보를 찾아 답을 생성할 수 있도록 하는 데이터셋입니다.\n",
        "- 질문에 대한 **답이 항상 주어진 지문 안**에 있는 것이 특징입니다.\n",
        "- 저는 지문을 이해는게 중요하다고 생각하여 transformer의 encoder부분을 차용하는 bert기반의 **klue/bert-base**를 사용하였습니다.\n",
        "- LG CNS에 의해 공개되었으며 이번 task에 사용하는 dataset은 version1이지만 version2에는 표가 지문에 등장하는 등 복잡한 질문 유형도 포함되었다고 합니다.\n"
      ],
      "metadata": {
        "id": "cYmeOtFjkTH1"
      },
      "id": "cYmeOtFjkTH1"
    },
    {
      "cell_type": "code",
      "execution_count": null,
      "id": "4398e8bc-1003-4759-8513-1a7a6b960eed",
      "metadata": {
        "execution": {
          "iopub.execute_input": "2025-02-22T12:01:58.358478Z",
          "iopub.status.busy": "2025-02-22T12:01:58.358068Z",
          "iopub.status.idle": "2025-02-22T12:02:03.117531Z",
          "shell.execute_reply": "2025-02-22T12:02:03.116962Z",
          "shell.execute_reply.started": "2025-02-22T12:01:58.358449Z"
        },
        "id": "4398e8bc-1003-4759-8513-1a7a6b960eed",
        "outputId": "3cc2e5bc-e652-480d-b33c-4f8255801c48"
      },
      "outputs": [
        {
          "name": "stdout",
          "output_type": "stream",
          "text": [
            "DatasetDict({\n",
            "    train: Dataset({\n",
            "        features: ['id', 'title', 'context', 'question', 'answers'],\n",
            "        num_rows: 60407\n",
            "    })\n",
            "    validation: Dataset({\n",
            "        features: ['id', 'title', 'context', 'question', 'answers'],\n",
            "        num_rows: 5774\n",
            "    })\n",
            "})\n"
          ]
        }
      ],
      "source": [
        "dataset = load_dataset(\"squad_kor_v1\")\n",
        "print(dataset)"
      ]
    },
    {
      "cell_type": "markdown",
      "source": [
        "데이터셋은 고유 id, 내용의 제목, 내용, 질문, 답변, 답변의 시작 위치(문자열 기준)정보가 담겨있었습니다."
      ],
      "metadata": {
        "id": "BVrzvDh9IedL"
      },
      "id": "BVrzvDh9IedL"
    },
    {
      "cell_type": "code",
      "execution_count": null,
      "id": "c018204a-0035-4b94-a1ee-ecbe2de65b1b",
      "metadata": {
        "execution": {
          "iopub.execute_input": "2025-02-22T11:47:01.625270Z",
          "iopub.status.busy": "2025-02-22T11:47:01.624777Z",
          "iopub.status.idle": "2025-02-22T11:47:01.633679Z",
          "shell.execute_reply": "2025-02-22T11:47:01.632908Z",
          "shell.execute_reply.started": "2025-02-22T11:47:01.625239Z"
        },
        "id": "c018204a-0035-4b94-a1ee-ecbe2de65b1b",
        "outputId": "490f0253-d4c3-4bc6-d1dc-9b6be2020fac"
      },
      "outputs": [
        {
          "data": {
            "text/plain": [
              "{'id': '6566495-0-0',\n",
              " 'title': '파우스트_서곡',\n",
              " 'context': '1839년 바그너는 괴테의 파우스트을 처음 읽고 그 내용에 마음이 끌려 이를 소재로 해서 하나의 교향곡을 쓰려는 뜻을 갖는다. 이 시기 바그너는 1838년에 빛 독촉으로 산전수전을 다 걲은 상황이라 좌절과 실망에 가득했으며 메피스토펠레스를 만나는 파우스트의 심경에 공감했다고 한다. 또한 파리에서 아브네크의 지휘로 파리 음악원 관현악단이 연주하는 베토벤의 교향곡 9번을 듣고 깊은 감명을 받았는데, 이것이 이듬해 1월에 파우스트의 서곡으로 쓰여진 이 작품에 조금이라도 영향을 끼쳤으리라는 것은 의심할 여지가 없다. 여기의 라단조 조성의 경우에도 그의 전기에 적혀 있는 것처럼 단순한 정신적 피로나 실의가 반영된 것이 아니라 베토벤의 합창교향곡 조성의 영향을 받은 것을 볼 수 있다. 그렇게 교향곡 작곡을 1839년부터 40년에 걸쳐 파리에서 착수했으나 1악장을 쓴 뒤에 중단했다. 또한 작품의 완성과 동시에 그는 이 서곡(1악장)을 파리 음악원의 연주회에서 연주할 파트보까지 준비하였으나, 실제로는 이루어지지는 않았다. 결국 초연은 4년 반이 지난 후에 드레스덴에서 연주되었고 재연도 이루어졌지만, 이후에 그대로 방치되고 말았다. 그 사이에 그는 리엔치와 방황하는 네덜란드인을 완성하고 탄호이저에도 착수하는 등 분주한 시간을 보냈는데, 그런 바쁜 생활이 이 곡을 잊게 한 것이 아닌가 하는 의견도 있다.',\n",
              " 'question': '바그너는 괴테의 파우스트를 읽고 무엇을 쓰고자 했는가?',\n",
              " 'answers': {'text': ['교향곡'], 'answer_start': [54]}}"
            ]
          },
          "execution_count": 19,
          "metadata": {},
          "output_type": "execute_result"
        }
      ],
      "source": [
        "dataset[\"train\"][0]"
      ]
    },
    {
      "cell_type": "markdown",
      "source": [
        "아래 코드는 데이터셋을 BERT 모델에 입력할 수 있도록 전처리 하는 과정입니다.\n",
        "\n",
        "QA TASK를 수행하기 위해서는 질문과 문맥을 하나의 입력 시퀀스로 결합해야 하며, 정답의 시작과 끝 위치를 토큰 단위로 변화해야 합니다.\n",
        "\n",
        "**1. bert의 입력 형식에 맞게 결합**\n",
        "- BERT 모델에서는 [CLS] 질문 [SEP] 문맥 [SEP] 형태로 입력을 받습니다.\n",
        "- tokenizer를 통하여 질문과 문맥을 함께 토큰화하고, max_length를 제한하여 길이를 조정하였습니다.\n",
        "- 길이를 자르는 것은 두번째, 즉 문맥에만 적용되게 하여 질문이 잘려 보지 못하는 일은 발생하지 않도록 하였습니다.\n",
        "- 문맥이 너무 길어 512토큰을 초과하는 경우에는 stride를 사용하여 오버랩된 슬라이딩 윈도우 방식으로 나누었습니다.\n",
        "- overflow_to_sampling_mapping을 사용해 나눠진 청크가 어떤 문장에서 나왔는지 추적할 수 있게 하였습니다.\n",
        "- 잘린 문맥에 정답이 없는 경우 [CLS]토큰을 정답으로 학습하게 하였습니다.\n",
        "\n",
        "\n",
        "\n",
        "**2. 정답의 시작, 끝 위치를 토큰 단위로 변환**\n",
        "- 본래 char단위의 위치를 토큰 단위의 위치로 변화시키기 위하여 offset_mapping을 사용해 정답의 시작, 끝 위치를 찾아내었습니다.\n",
        ">offset mapping은 각 토큰이 원래 텍스트에서 차지하는 문자 단위의 위치(start, end)를 제공하는 리스트\n",
        "\n",
        "    >ex)Offset Mapping: [(0, 0), (0, 2), (2, 4), (5, 7), (7, 8), (9, 10), (10, 12), (12, 13), (0, 0), (0, 2), (3, 5), (5, 7), (8, 10), (10, 11), (0, 0)]\n",
        "\n",
        "    -> 0은 sep, cls토큰\n",
        "\n"
      ],
      "metadata": {
        "id": "9cu7jG9nJHVQ"
      },
      "id": "9cu7jG9nJHVQ"
    },
    {
      "cell_type": "code",
      "execution_count": null,
      "id": "ecfbb0a0-7a2d-4f2d-ad8a-08701d41b0c1",
      "metadata": {
        "execution": {
          "iopub.execute_input": "2025-02-22T12:03:11.871366Z",
          "iopub.status.busy": "2025-02-22T12:03:11.870945Z",
          "iopub.status.idle": "2025-02-22T12:04:25.088589Z",
          "shell.execute_reply": "2025-02-22T12:04:25.087690Z",
          "shell.execute_reply.started": "2025-02-22T12:03:11.871339Z"
        },
        "id": "ecfbb0a0-7a2d-4f2d-ad8a-08701d41b0c1",
        "outputId": "3c20d944-ddb1-4dbe-a371-465c210343a3",
        "colab": {
          "referenced_widgets": [
            "32ecb736d5064c2fae80d960dc40248a",
            "8ab6e5bf72fb42a2a049fd2bf81897ae"
          ]
        }
      },
      "outputs": [
        {
          "data": {
            "application/vnd.jupyter.widget-view+json": {
              "model_id": "32ecb736d5064c2fae80d960dc40248a",
              "version_major": 2,
              "version_minor": 0
            },
            "text/plain": [
              "Map:   0%|          | 0/60407 [00:00<?, ? examples/s]"
            ]
          },
          "metadata": {},
          "output_type": "display_data"
        },
        {
          "data": {
            "application/vnd.jupyter.widget-view+json": {
              "model_id": "8ab6e5bf72fb42a2a049fd2bf81897ae",
              "version_major": 2,
              "version_minor": 0
            },
            "text/plain": [
              "Map:   0%|          | 0/5774 [00:00<?, ? examples/s]"
            ]
          },
          "metadata": {},
          "output_type": "display_data"
        },
        {
          "name": "stdout",
          "output_type": "stream",
          "text": [
            "{'train': Dataset({\n",
            "    features: ['input_ids', 'token_type_ids', 'attention_mask', 'start_positions', 'end_positions'],\n",
            "    num_rows: 62909\n",
            "}), 'validation': Dataset({\n",
            "    features: ['input_ids', 'token_type_ids', 'attention_mask', 'start_positions', 'end_positions'],\n",
            "    num_rows: 6155\n",
            "})}\n"
          ]
        }
      ],
      "source": [
        "from transformers import AutoTokenizer\n",
        "\n",
        "# klue-bert모델의 토크나이저 사용\n",
        "tokenizer = AutoTokenizer.from_pretrained(\"klue/bert-base\")\n",
        "\n",
        "def prepare_train_features(examples):\n",
        "    tokenized_examples = tokenizer(examples[\"question\"],\n",
        "                                   examples[\"context\"],\n",
        "                                   truncation=\"only_second\",\n",
        "                                   max_length=512,\n",
        "                                   stride=128, # 문맥을 자를 때 겹치는 부분을 128로 유지 -> 정답 손실 방지\n",
        "                                   return_overflowing_tokens=True, # 긴 문맥을 청크로 나누고 매핑\n",
        "                                   return_offsets_mapping=True, # 각 토큰이 원본 데이터에서 차지하는 문자 위치 정보\n",
        "                                   padding=\"max_length\") # 패딩을 512만큼\n",
        "\n",
        "    # 매핑 정보, 토큰 위치 리스트 가져오기\n",
        "    sample_mapping = tokenized_examples.pop(\"overflow_to_sample_mapping\")\n",
        "    offset_mapping = tokenized_examples.pop(\"offset_mapping\")\n",
        "\n",
        "    # 시작, 끝 위치 리스트 생성\n",
        "    tokenized_examples[\"start_positions\"] = []\n",
        "    tokenized_examples[\"end_positions\"] = []\n",
        "\n",
        "    # 청크별로 정답 위치 찾기\n",
        "    for i, offsets in enumerate(offset_mapping):\n",
        "        input_ids = tokenized_examples[\"input_ids\"][i]\n",
        "        cls_index = input_ids.index(tokenizer.cls_token_id)\n",
        "\n",
        "        # sequence_ids에는 질문(0)과 문맥(1)이 들어있음\n",
        "        sequence_ids = tokenized_examples.sequence_ids(i)\n",
        "\n",
        "        # 청크가 어느 원본 데이터에서 왔는지 확인\n",
        "        sample_index = sample_mapping[i]\n",
        "        # 원본 데이터의 정답 데이터를 가져옴\n",
        "        answers = examples[\"answers\"][sample_index]\n",
        "\n",
        "        # 만약 정답이 없는 경우 [CLS]의 위치를 정답 위치로 저장\n",
        "        if len(answers[\"answer_start\"]) == 0:\n",
        "            tokenized_examples[\"start_positions\"].append(cls_index)\n",
        "            tokenized_examples[\"end_positions\"].append(cls_index)\n",
        "        else:\n",
        "            # 토크나이징 하기 전 정답 시작, 끝 인덱스 가져옴\n",
        "            start_char = answers[\"answer_start\"][0]\n",
        "            end_char = start_char + len(answers[\"text\"][0])\n",
        "\n",
        "            # context가 시작하는 첫 번째 토큰 위치 찾기 (sequence id가 0인 부분 건너 뛰며 길이 알아내기)\n",
        "            token_start_index = 0\n",
        "            while sequence_ids[token_start_index] != 1:\n",
        "                token_start_index += 1\n",
        "\n",
        "            # context가 끝나는 마지막 토큰 위치 찾기 (거꾸로 mask가 아닌 부분 찾기, mask는 0)\n",
        "            token_end_index = len(input_ids) - 1\n",
        "            while sequence_ids[token_end_index] != 1:\n",
        "                token_end_index -= 1\n",
        "\n",
        "            # 정답이 현재 청크에 포함되지 않는 경우 [CLS]를 정답으로 (offset을 활용해 캐릭터 단위로 index 비교)\n",
        "            if not (offsets[token_start_index][0] <= start_char and offsets[token_end_index][1] >= end_char):\n",
        "                tokenized_examples[\"start_positions\"].append(cls_index)\n",
        "                tokenized_examples[\"end_positions\"].append(cls_index)\n",
        "            else:\n",
        "                # 정답 시작 위치를 토큰 인덱스로 변환\n",
        "                while token_start_index < len(offsets) and offsets[token_start_index][0] <= start_char:\n",
        "                    token_start_index += 1\n",
        "                tokenized_examples[\"start_positions\"].append(token_start_index - 1)\n",
        "                # 정답 끝 위치를 토큰 인덱스로 변환\n",
        "                while offsets[token_end_index][1] >= end_char:\n",
        "                    token_end_index -= 1\n",
        "                tokenized_examples[\"end_positions\"].append(token_end_index + 1)\n",
        "\n",
        "    return tokenized_examples\n",
        "\n",
        "# train, val dataset batch단위로 한 번에 여러 샘플 처리\n",
        "tokenized_train_dataset = dataset[\"train\"].map(prepare_train_features, batched=True, remove_columns=dataset[\"train\"].column_names)\n",
        "\n",
        "tokenized_val_dataset = dataset[\"validation\"].map(prepare_train_features, batched=True, remove_columns=dataset[\"validation\"].column_names)\n",
        "\n",
        "tokenized_datasets = {\n",
        "    \"train\": tokenized_train_dataset,\n",
        "    \"validation\": tokenized_val_dataset\n",
        "}\n",
        "\n",
        "print(tokenized_datasets)\n"
      ]
    },
    {
      "cell_type": "markdown",
      "source": [
        "- input_ids : 토크나이징된 단어의 ID\n",
        "- token_type_ids : 질문 0, 본문 1로 구분해주는 역할\n",
        "- attention_mask : 내용 1, 패딩 0으로 구분해주는 역할\n",
        "- start_positions : 토큰의 시작 위치\n",
        "- end_positions : 토큰의 마지막 위치"
      ],
      "metadata": {
        "id": "vOfWCQTDTmjI"
      },
      "id": "vOfWCQTDTmjI"
    },
    {
      "cell_type": "code",
      "execution_count": null,
      "id": "e88ab8cb-0792-42a9-b9b2-d57e748a7fe3",
      "metadata": {
        "execution": {
          "iopub.execute_input": "2025-02-22T11:20:16.645918Z",
          "iopub.status.busy": "2025-02-22T11:20:16.645003Z",
          "iopub.status.idle": "2025-02-22T11:20:16.658015Z",
          "shell.execute_reply": "2025-02-22T11:20:16.656348Z",
          "shell.execute_reply.started": "2025-02-22T11:20:16.645854Z"
        },
        "id": "e88ab8cb-0792-42a9-b9b2-d57e748a7fe3",
        "outputId": "16cb970d-e84f-4182-dd1f-b8c6493bbdc0"
      },
      "outputs": [
        {
          "name": "stdout",
          "output_type": "stream",
          "text": [
            "{'input_ids': [2, 27982, 2259, 21310, 2079, 11994, 3791, 2138, 1508, 2088, 3890, 2069, 1363, 2088, 2155, 1902, 2259, 2116, 35, 3, 13934, 2236, 2440, 27982, 2259, 21310, 2079, 11994, 3791, 2069, 3790, 1508, 2088, 636, 3800, 2170, 3717, 2052, 9001, 8345, 4642, 2200, 3689, 3657, 2079, 19282, 2069, 1363, 2370, 2259, 936, 2069, 554, 2259, 2062, 18, 1504, 4342, 27982, 2259, 13934, 2196, 2440, 2170, 1195, 23260, 6233, 17370, 2113, 2165, 2069, 809, 1, 3706, 2052, 2181, 8642, 2145, 7334, 2170, 4983, 2371, 4007, 1065, 5917, 2386, 2559, 4443, 2138, 4026, 2259, 11994, 3791, 2079, 15864, 2170, 5487, 2371, 4683, 3605, 18, 3819, 5986, 27135, 1376, 2645, 2203, 2292, 2079, 5872, 2200, 5986, 4152, 2252, 22835, 16706, 2052, 5485, 2205, 2259, 17087, 2079, 19282, 29, 2517, 2069, 881, 2088, 652, 2073, 23404, 2069, 1122, 2886, 13964, 16, 3982, 2052, 9944, 21, 2429, 2170, 11994, 3791, 2079, 1258, 2465, 6233, 24294, 1504, 3967, 2170, 4027, 2052, 5121, 3979, 2069, 18274, 21575, 23548, 575, 2073, 5292, 2085, 7251, 2116, 1415, 2062, 18, 3776, 2079, 942, 2286, 2446, 4196, 2079, 3640, 6509, 636, 2079, 4450, 2170, 10329, 1513, 2259, 575, 7925, 4488, 2470, 4006, 2125, 7874, 2075, 1329, 2079, 2116, 4523, 2897, 575, 2052, 3614, 2181, 17087, 2079, 10044, 2120, 2482, 2465, 4196, 2079, 3979, 2069, 1122, 2073, 575, 2069, 1164, 1295, 1513, 2062, 18, 3914, 19282, 8067, 2069, 13934, 2236, 2440, 3797, 4064, 2440, 2170, 5314, 5986, 27135, 7615, 2371, 4381, 21, 2376, 2121, 2069, 1365, 873, 2170, 4967, 2371, 2062, 18, 3819, 3967, 2079, 4976, 2145, 4213, 2170, 636, 2259, 1504, 1258, 2465, 12, 21, 2376, 2121, 13, 1498, 5986, 4152, 2252, 2079, 16385, 27135, 5485, 2085, 6237, 2178, 2299, 2118, 3864, 2205, 2507, 4381, 16, 4539, 2259, 6268, 2118, 2259, 1380, 2886, 2062, 18, 3983, 16087, 2073, 24, 2440, 1121, 2052, 3625, 1943, 2170, 9605, 2906, 27135, 5485, 2496, 2359, 2088, 17807, 2119, 4046, 6028, 3683, 16, 3719, 2170, 4311, 8095, 2496, 2088, 1041, 2886, 2062, 18, 636, 3734, 2170, 636, 2259, 1028, 2614, 2225, 2522, 14231, 2205, 2259, 8445, 2179, 2069, 4976, 19521, 1763, 2016, 2052, 2190, 6509, 7615, 2205, 2259, 886, 12100, 2470, 3641, 2069, 5755, 13964, 16, 3637, 9064, 3799, 2052, 1504, 595, 2069, 1515, 2318, 1891, 575, 2052, 5215, 1889, 2259, 4192, 2119, 1513, 2062, 18, 3, 0, 0, 0, 0, 0, 0, 0, 0, 0, 0, 0, 0, 0, 0, 0, 0, 0, 0, 0, 0, 0, 0, 0, 0, 0, 0, 0, 0, 0, 0, 0, 0, 0, 0, 0, 0, 0, 0, 0, 0, 0, 0, 0, 0, 0, 0, 0, 0, 0, 0, 0, 0, 0, 0, 0, 0, 0, 0, 0, 0, 0, 0, 0, 0, 0, 0, 0, 0, 0, 0, 0, 0, 0, 0, 0, 0, 0, 0, 0, 0, 0, 0, 0, 0, 0, 0, 0, 0, 0, 0, 0, 0, 0, 0, 0, 0, 0, 0, 0, 0, 0, 0, 0, 0, 0, 0, 0, 0, 0, 0, 0, 0, 0, 0, 0, 0, 0, 0, 0, 0, 0, 0, 0, 0, 0, 0, 0, 0, 0, 0, 0, 0], 'token_type_ids': [0, 0, 0, 0, 0, 0, 0, 0, 0, 0, 0, 0, 0, 0, 0, 0, 0, 0, 0, 0, 1, 1, 1, 1, 1, 1, 1, 1, 1, 1, 1, 1, 1, 1, 1, 1, 1, 1, 1, 1, 1, 1, 1, 1, 1, 1, 1, 1, 1, 1, 1, 1, 1, 1, 1, 1, 1, 1, 1, 1, 1, 1, 1, 1, 1, 1, 1, 1, 1, 1, 1, 1, 1, 1, 1, 1, 1, 1, 1, 1, 1, 1, 1, 1, 1, 1, 1, 1, 1, 1, 1, 1, 1, 1, 1, 1, 1, 1, 1, 1, 1, 1, 1, 1, 1, 1, 1, 1, 1, 1, 1, 1, 1, 1, 1, 1, 1, 1, 1, 1, 1, 1, 1, 1, 1, 1, 1, 1, 1, 1, 1, 1, 1, 1, 1, 1, 1, 1, 1, 1, 1, 1, 1, 1, 1, 1, 1, 1, 1, 1, 1, 1, 1, 1, 1, 1, 1, 1, 1, 1, 1, 1, 1, 1, 1, 1, 1, 1, 1, 1, 1, 1, 1, 1, 1, 1, 1, 1, 1, 1, 1, 1, 1, 1, 1, 1, 1, 1, 1, 1, 1, 1, 1, 1, 1, 1, 1, 1, 1, 1, 1, 1, 1, 1, 1, 1, 1, 1, 1, 1, 1, 1, 1, 1, 1, 1, 1, 1, 1, 1, 1, 1, 1, 1, 1, 1, 1, 1, 1, 1, 1, 1, 1, 1, 1, 1, 1, 1, 1, 1, 1, 1, 1, 1, 1, 1, 1, 1, 1, 1, 1, 1, 1, 1, 1, 1, 1, 1, 1, 1, 1, 1, 1, 1, 1, 1, 1, 1, 1, 1, 1, 1, 1, 1, 1, 1, 1, 1, 1, 1, 1, 1, 1, 1, 1, 1, 1, 1, 1, 1, 1, 1, 1, 1, 1, 1, 1, 1, 1, 1, 1, 1, 1, 1, 1, 1, 1, 1, 1, 1, 1, 1, 1, 1, 1, 1, 1, 1, 1, 1, 1, 1, 1, 1, 1, 1, 1, 1, 1, 1, 1, 1, 1, 1, 1, 1, 1, 1, 1, 1, 1, 1, 1, 1, 1, 1, 1, 1, 1, 1, 1, 1, 1, 1, 1, 1, 1, 1, 1, 1, 1, 1, 1, 1, 1, 1, 1, 1, 1, 1, 1, 1, 1, 1, 1, 1, 1, 1, 1, 1, 0, 0, 0, 0, 0, 0, 0, 0, 0, 0, 0, 0, 0, 0, 0, 0, 0, 0, 0, 0, 0, 0, 0, 0, 0, 0, 0, 0, 0, 0, 0, 0, 0, 0, 0, 0, 0, 0, 0, 0, 0, 0, 0, 0, 0, 0, 0, 0, 0, 0, 0, 0, 0, 0, 0, 0, 0, 0, 0, 0, 0, 0, 0, 0, 0, 0, 0, 0, 0, 0, 0, 0, 0, 0, 0, 0, 0, 0, 0, 0, 0, 0, 0, 0, 0, 0, 0, 0, 0, 0, 0, 0, 0, 0, 0, 0, 0, 0, 0, 0, 0, 0, 0, 0, 0, 0, 0, 0, 0, 0, 0, 0, 0, 0, 0, 0, 0, 0, 0, 0, 0, 0, 0, 0, 0, 0, 0, 0, 0, 0, 0, 0], 'attention_mask': [1, 1, 1, 1, 1, 1, 1, 1, 1, 1, 1, 1, 1, 1, 1, 1, 1, 1, 1, 1, 1, 1, 1, 1, 1, 1, 1, 1, 1, 1, 1, 1, 1, 1, 1, 1, 1, 1, 1, 1, 1, 1, 1, 1, 1, 1, 1, 1, 1, 1, 1, 1, 1, 1, 1, 1, 1, 1, 1, 1, 1, 1, 1, 1, 1, 1, 1, 1, 1, 1, 1, 1, 1, 1, 1, 1, 1, 1, 1, 1, 1, 1, 1, 1, 1, 1, 1, 1, 1, 1, 1, 1, 1, 1, 1, 1, 1, 1, 1, 1, 1, 1, 1, 1, 1, 1, 1, 1, 1, 1, 1, 1, 1, 1, 1, 1, 1, 1, 1, 1, 1, 1, 1, 1, 1, 1, 1, 1, 1, 1, 1, 1, 1, 1, 1, 1, 1, 1, 1, 1, 1, 1, 1, 1, 1, 1, 1, 1, 1, 1, 1, 1, 1, 1, 1, 1, 1, 1, 1, 1, 1, 1, 1, 1, 1, 1, 1, 1, 1, 1, 1, 1, 1, 1, 1, 1, 1, 1, 1, 1, 1, 1, 1, 1, 1, 1, 1, 1, 1, 1, 1, 1, 1, 1, 1, 1, 1, 1, 1, 1, 1, 1, 1, 1, 1, 1, 1, 1, 1, 1, 1, 1, 1, 1, 1, 1, 1, 1, 1, 1, 1, 1, 1, 1, 1, 1, 1, 1, 1, 1, 1, 1, 1, 1, 1, 1, 1, 1, 1, 1, 1, 1, 1, 1, 1, 1, 1, 1, 1, 1, 1, 1, 1, 1, 1, 1, 1, 1, 1, 1, 1, 1, 1, 1, 1, 1, 1, 1, 1, 1, 1, 1, 1, 1, 1, 1, 1, 1, 1, 1, 1, 1, 1, 1, 1, 1, 1, 1, 1, 1, 1, 1, 1, 1, 1, 1, 1, 1, 1, 1, 1, 1, 1, 1, 1, 1, 1, 1, 1, 1, 1, 1, 1, 1, 1, 1, 1, 1, 1, 1, 1, 1, 1, 1, 1, 1, 1, 1, 1, 1, 1, 1, 1, 1, 1, 1, 1, 1, 1, 1, 1, 1, 1, 1, 1, 1, 1, 1, 1, 1, 1, 1, 1, 1, 1, 1, 1, 1, 1, 1, 1, 1, 1, 1, 1, 1, 1, 1, 1, 1, 1, 1, 1, 1, 1, 1, 1, 1, 1, 1, 0, 0, 0, 0, 0, 0, 0, 0, 0, 0, 0, 0, 0, 0, 0, 0, 0, 0, 0, 0, 0, 0, 0, 0, 0, 0, 0, 0, 0, 0, 0, 0, 0, 0, 0, 0, 0, 0, 0, 0, 0, 0, 0, 0, 0, 0, 0, 0, 0, 0, 0, 0, 0, 0, 0, 0, 0, 0, 0, 0, 0, 0, 0, 0, 0, 0, 0, 0, 0, 0, 0, 0, 0, 0, 0, 0, 0, 0, 0, 0, 0, 0, 0, 0, 0, 0, 0, 0, 0, 0, 0, 0, 0, 0, 0, 0, 0, 0, 0, 0, 0, 0, 0, 0, 0, 0, 0, 0, 0, 0, 0, 0, 0, 0, 0, 0, 0, 0, 0, 0, 0, 0, 0, 0, 0, 0, 0, 0, 0, 0, 0, 0], 'start_positions': 45, 'end_positions': 45}\n"
          ]
        }
      ],
      "source": [
        "print(tokenized_datasets['train'][0])"
      ]
    },
    {
      "cell_type": "markdown",
      "source": [
        "이렇게 만들어진 데이터 개수를 확인해 보았을 때, sliding window방식으로 생성된 train 데이터셋이 약 2500개 정도 된다는 것을 알게 되었습니다."
      ],
      "metadata": {
        "id": "xxWiJv-lOK5d"
      },
      "id": "xxWiJv-lOK5d"
    },
    {
      "cell_type": "code",
      "execution_count": null,
      "id": "4f35c10d-dd8d-4c5c-a351-98b45294ab88",
      "metadata": {
        "execution": {
          "iopub.execute_input": "2025-02-21T11:15:16.098069Z",
          "iopub.status.busy": "2025-02-21T11:15:16.096931Z",
          "iopub.status.idle": "2025-02-21T11:15:16.108340Z",
          "shell.execute_reply": "2025-02-21T11:15:16.106912Z",
          "shell.execute_reply.started": "2025-02-21T11:15:16.097989Z"
        },
        "id": "4f35c10d-dd8d-4c5c-a351-98b45294ab88",
        "outputId": "f1da7e94-1044-4fc3-eaea-5bc5993593d9"
      },
      "outputs": [
        {
          "name": "stdout",
          "output_type": "stream",
          "text": [
            "훈련 데이터 개수: 60407\n",
            "검증 데이터 개수: 5774\n"
          ]
        }
      ],
      "source": [
        "print(f\"훈련 데이터 개수: {len(dataset['train'])}\")\n",
        "print(f\"검증 데이터 개수: {len(dataset['validation'])}\")"
      ]
    },
    {
      "cell_type": "code",
      "execution_count": null,
      "id": "e5e342ef-36ce-468f-ab51-071a34490d35",
      "metadata": {
        "execution": {
          "iopub.execute_input": "2025-02-21T11:15:16.983717Z",
          "iopub.status.busy": "2025-02-21T11:15:16.983202Z",
          "iopub.status.idle": "2025-02-21T11:15:16.988060Z",
          "shell.execute_reply": "2025-02-21T11:15:16.987506Z",
          "shell.execute_reply.started": "2025-02-21T11:15:16.983687Z"
        },
        "id": "e5e342ef-36ce-468f-ab51-071a34490d35",
        "outputId": "faaac7c0-d6cb-4881-9a47-20b6d265193b"
      },
      "outputs": [
        {
          "name": "stdout",
          "output_type": "stream",
          "text": [
            "전처리 후 훈련 데이터 개수: 62909\n",
            "전처리 후 검증 데이터 개수: 6155\n"
          ]
        }
      ],
      "source": [
        "print(f\"전처리 후 훈련 데이터 개수: {len(tokenized_datasets['train'])}\")\n",
        "print(f\"전처리 후 검증 데이터 개수: {len(tokenized_datasets['validation'])}\")"
      ]
    },
    {
      "cell_type": "code",
      "execution_count": null,
      "id": "5b08fadb-cb96-48be-8070-88d09f411370",
      "metadata": {
        "execution": {
          "iopub.execute_input": "2025-02-22T12:04:40.662658Z",
          "iopub.status.busy": "2025-02-22T12:04:40.661836Z",
          "iopub.status.idle": "2025-02-22T12:04:40.717208Z",
          "shell.execute_reply": "2025-02-22T12:04:40.716630Z",
          "shell.execute_reply.started": "2025-02-22T12:04:40.662586Z"
        },
        "scrolled": true,
        "id": "5b08fadb-cb96-48be-8070-88d09f411370",
        "outputId": "d35700b2-d89e-4b2a-cce4-2a5002a1ed1b"
      },
      "outputs": [
        {
          "name": "stdout",
          "output_type": "stream",
          "text": [
            "\n",
            "==================================================\n",
            "Original Question: 롤링의 증조할아버지의 국적은 무엇인가? 롤링은 1965년 7월 31일 잉글랜드 브리스틀 근처 북동쪽에서 10 마일 ( 16. 1 km ) 떨어진 예이트 ( Yate ) 에서 롤스로이스 항공기 엔지니어 였던 \" 피터 제임스 롤링 \" 과 과학 기술자의 앤 롤링 ( 옛 성씨 : 볼란트 ) 의 장녀로 태어났다. 그녀의 부모는 1964년 아브로스 ( Arbroath ) 로 출발하는 런던 킹스크로스 역에서 처음 만났고, 그들은 1965년 3월 14일에 결혼했다. 그리고 이 킹스크로스역은 나중에 롤링의 책에서 나와 셰계적인 관광 명소가 되었다. 그녀의 증조 외할아버지 \" 듀갈드 캠벨 \" 은 스코틀랜드인으로 애런 섬의 람래쉬에서 태어났다. 증조 친할아버지 \" 루이스 볼란트 \" 는 프랑스인으로 제1차 세계 대전 당시 꾸르셀 르 콩트 마을을 용기있게 방어한 공로로 무공 십자훈장을 받았다.\n",
            "\n",
            "Tokenized input:\n",
            "['[CLS]', '롤링', '##의', '증', '##조', '##할', '##아버지', '##의', '국적', '##은', '무엇', '##인', '##가', '?', '[SEP]', '롤링', '##은', '1965', '##년', '7', '##월', '31', '##일', '잉글랜드', '브리', '##스', '##틀', '근처', '북동', '##쪽', '##에서', '10', '마일', '(', '16', '.', '1', 'km', ')', '떨어진', '예', '##이트', '(', 'Y', '##ate', ')', '에서', '롤', '##스로', '##이스', '항공기', '엔지니어', '였', '##던', '\"', '피터', '제임스', '롤링', '\"', '과', '과학', '기술자', '##의', '앤', '롤링', '(', '옛', '성씨', ':', '볼', '##란트', ')', '의', '장녀', '##로', '태어났', '##다', '.', '그녀', '##의', '부모', '##는', '1964', '##년', '아', '##브', '##로스', '(', 'Ar', '##b', '##ro', '##ath', ')', '로', '출발', '##하', '##는', '런던', '킹', '##스크', '##로스', '역', '##에서', '처음', '만났', '##고', ',', '그', '##들', '##은', '1965', '##년', '3', '##월', '14', '##일', '##에', '결혼', '##했', '##다', '.', '그리고', '이', '킹', '##스크', '##로스', '##역', '##은', '나중', '##에', '롤링', '##의', '책', '##에서', '나와', '셰', '##계', '##적인', '관광', '명소', '##가', '되', '##었', '##다', '.', '그녀', '##의', '증', '##조', '외할', '##아버지', '\"', '듀', '##갈', '##드', '캠벨', '\"', '은', '스코틀랜드', '##인', '##으로', '애', '##런', '섬', '##의', '람', '##래', '##쉬', '##에서', '태어났', '##다', '.', '증', '##조', '친', '##할', '##아버지', '\"', '루이스', '볼', '##란트', '\"', '는', '프랑스인', '##으로', '제', '##1', '##차', '세계', '대전', '당시', '꾸', '##르', '##셀', '르', '콩', '##트', '마을', '##을', '용기', '##있', '##게', '방어', '##한', '공로', '##로', '무공', '십자', '##훈', '##장', '##을', '받', '##았', '##다', '.', '[SEP]', '[PAD]', '[PAD]', '[PAD]', '[PAD]', '[PAD]', '[PAD]', '[PAD]', '[PAD]', '[PAD]', '[PAD]', '[PAD]', '[PAD]', '[PAD]', '[PAD]', '[PAD]', '[PAD]', '[PAD]', '[PAD]', '[PAD]', '[PAD]', '[PAD]', '[PAD]', '[PAD]', '[PAD]', '[PAD]', '[PAD]', '[PAD]', '[PAD]', '[PAD]', '[PAD]', '[PAD]', '[PAD]', '[PAD]', '[PAD]', '[PAD]', '[PAD]', '[PAD]', '[PAD]', '[PAD]', '[PAD]', '[PAD]', '[PAD]', '[PAD]', '[PAD]', '[PAD]', '[PAD]', '[PAD]', '[PAD]', '[PAD]', '[PAD]', '[PAD]', '[PAD]', '[PAD]', '[PAD]', '[PAD]', '[PAD]', '[PAD]', '[PAD]', '[PAD]', '[PAD]', '[PAD]', '[PAD]', '[PAD]', '[PAD]', '[PAD]', '[PAD]', '[PAD]', '[PAD]', '[PAD]', '[PAD]', '[PAD]', '[PAD]', '[PAD]', '[PAD]', '[PAD]', '[PAD]', '[PAD]', '[PAD]', '[PAD]', '[PAD]', '[PAD]', '[PAD]', '[PAD]', '[PAD]', '[PAD]', '[PAD]', '[PAD]', '[PAD]', '[PAD]', '[PAD]', '[PAD]', '[PAD]', '[PAD]', '[PAD]', '[PAD]', '[PAD]', '[PAD]', '[PAD]', '[PAD]', '[PAD]', '[PAD]', '[PAD]', '[PAD]', '[PAD]', '[PAD]', '[PAD]', '[PAD]', '[PAD]', '[PAD]', '[PAD]', '[PAD]', '[PAD]', '[PAD]', '[PAD]', '[PAD]', '[PAD]', '[PAD]', '[PAD]', '[PAD]', '[PAD]', '[PAD]', '[PAD]', '[PAD]', '[PAD]', '[PAD]', '[PAD]', '[PAD]', '[PAD]', '[PAD]', '[PAD]', '[PAD]', '[PAD]', '[PAD]', '[PAD]', '[PAD]', '[PAD]', '[PAD]', '[PAD]', '[PAD]', '[PAD]', '[PAD]', '[PAD]', '[PAD]', '[PAD]', '[PAD]', '[PAD]', '[PAD]', '[PAD]', '[PAD]', '[PAD]', '[PAD]', '[PAD]', '[PAD]', '[PAD]', '[PAD]', '[PAD]', '[PAD]', '[PAD]', '[PAD]', '[PAD]', '[PAD]', '[PAD]', '[PAD]', '[PAD]', '[PAD]', '[PAD]', '[PAD]', '[PAD]', '[PAD]', '[PAD]', '[PAD]', '[PAD]', '[PAD]', '[PAD]', '[PAD]', '[PAD]', '[PAD]', '[PAD]', '[PAD]', '[PAD]', '[PAD]', '[PAD]', '[PAD]', '[PAD]', '[PAD]', '[PAD]', '[PAD]', '[PAD]', '[PAD]', '[PAD]', '[PAD]', '[PAD]', '[PAD]', '[PAD]', '[PAD]', '[PAD]', '[PAD]', '[PAD]', '[PAD]', '[PAD]', '[PAD]', '[PAD]', '[PAD]', '[PAD]', '[PAD]', '[PAD]', '[PAD]', '[PAD]', '[PAD]', '[PAD]', '[PAD]', '[PAD]', '[PAD]', '[PAD]', '[PAD]', '[PAD]', '[PAD]', '[PAD]', '[PAD]', '[PAD]', '[PAD]', '[PAD]', '[PAD]', '[PAD]', '[PAD]', '[PAD]', '[PAD]', '[PAD]', '[PAD]', '[PAD]', '[PAD]', '[PAD]', '[PAD]', '[PAD]', '[PAD]', '[PAD]', '[PAD]', '[PAD]', '[PAD]', '[PAD]', '[PAD]', '[PAD]', '[PAD]', '[PAD]', '[PAD]', '[PAD]', '[PAD]', '[PAD]', '[PAD]', '[PAD]', '[PAD]', '[PAD]', '[PAD]', '[PAD]', '[PAD]', '[PAD]', '[PAD]', '[PAD]', '[PAD]', '[PAD]', '[PAD]', '[PAD]', '[PAD]', '[PAD]', '[PAD]', '[PAD]', '[PAD]', '[PAD]', '[PAD]', '[PAD]', '[PAD]', '[PAD]', '[PAD]', '[PAD]', '[PAD]', '[PAD]', '[PAD]', '[PAD]', '[PAD]', '[PAD]', '[PAD]', '[PAD]', '[PAD]', '[PAD]', '[PAD]', '[PAD]', '[PAD]', '[PAD]', '[PAD]', '[PAD]', '[PAD]', '[PAD]', '[PAD]', '[PAD]', '[PAD]', '[PAD]']\n",
            "\n",
            "Answer start position: 183\n",
            "Answer end position: 183\n",
            "\n",
            "Predicted answer: 프랑스인\n",
            "Answer is within the context.\n",
            "\n",
            "==================================================\n",
            "Original Question: 뮤지컬 빌리엘리어트의 시카고 프로덕션의 마지막 공연일은? 뮤지컬 빌리 엘리어트는 시카고에서 2010년 3월 18일 프리뷰와 함께 4월 11일 포드 공연 예술 센터에서 공식적으로 막을 올렸다. 포드 공연 예술 센터는 북미 투어 공연의 시작이었다. 그러나 프로듀서 에릭 페너에 의하면, 그는 뮤지컬 빌리 엘리어트는 \" 시카고가 ' 가라 ' 라고 하기 전까지 있을 것이다. 우리는 한 번에 한 가지만 맡을 수 있다. \" 고 말했다. 그러하여 다른 북미 도시들은 시카고 프로덕션이 경과를 지켜 볼 동안 기다릴 수 밖에 없었다. 에밀리 스키너는 윌킨슨 부인역을 맡았고, 토미 베챌러, 바실리오, 시저 코랄레즈, 그리고 존 피터 비에르네가 빌리를 연기했다. 이후 마르쿠스 페이, 마일즈 얼릭이 빌리 엘리어트 역에 합세했다. 시카고 프로덕션은 2010년 11월 28일로 공연을 끝냈고, 토론토로 옮겨가게 된다. 37주동안 288회의 공연을 했다.\n",
            "\n",
            "Tokenized input:\n",
            "['[CLS]', '뮤지컬', '빌리', '##엘', '##리어', '##트', '##의', '시카고', '프로덕션', '##의', '마지막', '공연', '##일', '##은', '?', '[SEP]', '뮤지컬', '빌리', '엘리', '##어', '##트', '##는', '시카고', '##에서', '2010', '##년', '3', '##월', '18', '##일', '프리', '##뷰', '##와', '함께', '4', '##월', '11', '##일', '포드', '공연', '예술', '센터', '##에서', '공식', '##적으로', '막', '##을', '올렸', '##다', '.', '포드', '공연', '예술', '센터', '##는', '북미', '투어', '공연', '##의', '시작', '##이', '##었', '##다', '.', '그러나', '프로듀서', '에릭', '페', '##너', '##에', '의하', '##면', ',', '그', '##는', '뮤지컬', '빌리', '엘리', '##어', '##트', '##는', '\"', '시카고', '##가', \"'\", '가라', \"'\", '라고', '하', '##기', '전', '##까', '##지', '있', '##을', '것', '##이다', '.', '우리', '##는', '한', '번', '##에', '한', '가지', '##만', '맡', '##을', '수', '있', '##다', '.', '\"', '고', '말', '##했', '##다', '.', '그러', '##하여', '다른', '북미', '도시', '##들', '##은', '시카고', '프로덕션', '##이', '경과', '##를', '지켜', '볼', '동안', '기다릴', '수', '밖에', '없', '##었', '##다', '.', '에밀리', '스키', '##너', '##는', '윌', '##킨슨', '부인', '##역', '##을', '맡', '##았', '##고', ',', '토미', '베', '##챌', '##러', ',', '[UNK]', '바실', '##리오', ',', '시', '##저', '코', '##랄', '##레', '##즈', ',', '그리고', '존', '피터', '비', '##에르', '##네', '##가', '빌리', '##를', '연기', '##했', '##다', '.', '이후', '마르', '##쿠스', '페이', ',', '마일', '##즈', '얼', '##릭', '##이', '빌리', '엘리', '##어', '##트', '역', '##에', '합세', '##했', '##다', '.', '시카고', '프로덕션', '##은', '2010', '##년', '11', '##월', '28', '##일', '##로', '공연', '##을', '끝냈', '##고', ',', '토론토', '##로', '옮겨', '##가', '##게', '된다', '.', '37', '##주', '##동안', '288', '##회의', '공연', '##을', '했', '##다', '.', '[SEP]', '[PAD]', '[PAD]', '[PAD]', '[PAD]', '[PAD]', '[PAD]', '[PAD]', '[PAD]', '[PAD]', '[PAD]', '[PAD]', '[PAD]', '[PAD]', '[PAD]', '[PAD]', '[PAD]', '[PAD]', '[PAD]', '[PAD]', '[PAD]', '[PAD]', '[PAD]', '[PAD]', '[PAD]', '[PAD]', '[PAD]', '[PAD]', '[PAD]', '[PAD]', '[PAD]', '[PAD]', '[PAD]', '[PAD]', '[PAD]', '[PAD]', '[PAD]', '[PAD]', '[PAD]', '[PAD]', '[PAD]', '[PAD]', '[PAD]', '[PAD]', '[PAD]', '[PAD]', '[PAD]', '[PAD]', '[PAD]', '[PAD]', '[PAD]', '[PAD]', '[PAD]', '[PAD]', '[PAD]', '[PAD]', '[PAD]', '[PAD]', '[PAD]', '[PAD]', '[PAD]', '[PAD]', '[PAD]', '[PAD]', '[PAD]', '[PAD]', '[PAD]', '[PAD]', '[PAD]', '[PAD]', '[PAD]', '[PAD]', '[PAD]', '[PAD]', '[PAD]', '[PAD]', '[PAD]', '[PAD]', '[PAD]', '[PAD]', '[PAD]', '[PAD]', '[PAD]', '[PAD]', '[PAD]', '[PAD]', '[PAD]', '[PAD]', '[PAD]', '[PAD]', '[PAD]', '[PAD]', '[PAD]', '[PAD]', '[PAD]', '[PAD]', '[PAD]', '[PAD]', '[PAD]', '[PAD]', '[PAD]', '[PAD]', '[PAD]', '[PAD]', '[PAD]', '[PAD]', '[PAD]', '[PAD]', '[PAD]', '[PAD]', '[PAD]', '[PAD]', '[PAD]', '[PAD]', '[PAD]', '[PAD]', '[PAD]', '[PAD]', '[PAD]', '[PAD]', '[PAD]', '[PAD]', '[PAD]', '[PAD]', '[PAD]', '[PAD]', '[PAD]', '[PAD]', '[PAD]', '[PAD]', '[PAD]', '[PAD]', '[PAD]', '[PAD]', '[PAD]', '[PAD]', '[PAD]', '[PAD]', '[PAD]', '[PAD]', '[PAD]', '[PAD]', '[PAD]', '[PAD]', '[PAD]', '[PAD]', '[PAD]', '[PAD]', '[PAD]', '[PAD]', '[PAD]', '[PAD]', '[PAD]', '[PAD]', '[PAD]', '[PAD]', '[PAD]', '[PAD]', '[PAD]', '[PAD]', '[PAD]', '[PAD]', '[PAD]', '[PAD]', '[PAD]', '[PAD]', '[PAD]', '[PAD]', '[PAD]', '[PAD]', '[PAD]', '[PAD]', '[PAD]', '[PAD]', '[PAD]', '[PAD]', '[PAD]', '[PAD]', '[PAD]', '[PAD]', '[PAD]', '[PAD]', '[PAD]', '[PAD]', '[PAD]', '[PAD]', '[PAD]', '[PAD]', '[PAD]', '[PAD]', '[PAD]', '[PAD]', '[PAD]', '[PAD]', '[PAD]', '[PAD]', '[PAD]', '[PAD]', '[PAD]', '[PAD]', '[PAD]', '[PAD]', '[PAD]', '[PAD]', '[PAD]', '[PAD]', '[PAD]', '[PAD]', '[PAD]', '[PAD]', '[PAD]', '[PAD]', '[PAD]', '[PAD]', '[PAD]', '[PAD]', '[PAD]', '[PAD]', '[PAD]', '[PAD]', '[PAD]', '[PAD]', '[PAD]', '[PAD]', '[PAD]', '[PAD]', '[PAD]', '[PAD]', '[PAD]', '[PAD]', '[PAD]', '[PAD]', '[PAD]', '[PAD]', '[PAD]', '[PAD]', '[PAD]', '[PAD]', '[PAD]', '[PAD]', '[PAD]', '[PAD]', '[PAD]', '[PAD]', '[PAD]', '[PAD]', '[PAD]', '[PAD]', '[PAD]', '[PAD]', '[PAD]', '[PAD]', '[PAD]', '[PAD]', '[PAD]', '[PAD]', '[PAD]', '[PAD]', '[PAD]', '[PAD]', '[PAD]', '[PAD]', '[PAD]', '[PAD]', '[PAD]', '[PAD]', '[PAD]', '[PAD]', '[PAD]', '[PAD]', '[PAD]', '[PAD]', '[PAD]', '[PAD]', '[PAD]', '[PAD]', '[PAD]', '[PAD]']\n",
            "\n",
            "Answer start position: 205\n",
            "Answer end position: 210\n",
            "\n",
            "Predicted answer: 2010년 11월 28일\n",
            "Answer is within the context.\n",
            "\n",
            "==================================================\n",
            "Original Question: 자동차의 연료가 소모되면서 발생하는 오염물질 두가지를 써보시오. 1960년대 산업과, 자동차 기술 발달로 인해 유럽 등 선진국들을 중심으로 점점 더 많은 사람들이 승용차를 갖게 된다. 10년 사이에 유럽에서는 자동차수가 2배 이상으로 증가했다. 이제 사람들은 차를 타고 언제 어디서나 원하는 곳에 갈 수 있게 된 것이다. 지금도 자동차의 수요는 계속 증가하고 있다. 자동차의 수요 증가는 인구의 도심 집중을 완화시키는데도 도움을 줬다. 대중교통으로는 접근하기 어려웠던 상대적으로 먼 지역에서 저렴한 집을 살 수 있고, 자가용을 이용하여 이동할 수 있기 때문이다. 처음엔 도시의 중심에 주거지역이 형성되고, 차츰 중심에서부터 동심원이 커지면서 도시의 규모가 커지는 것이다. 물론 늘어나는 자동차를 수용하기 위해 새로 도로도 건설하고 교차로, 순환도로, 고속도로 등을 건설해야 했다. 다시 말해서 이동시간을 빠르게 하기 위해 자가용과 도로의 확충 등 교통시스템이 발전한 것이다. 환경오염 문제도 대중교통이 발전하게 된 계기다. 자동차의 연료가 소모되며 질소 산화물, 일산화탄소, 불완전 연소로 인한 탄화수소, 먼지 등 오염물질도 함께 배출된다. 1990년대쯤에는 자동차에서 이산화황도 배출됐다.\n",
            "\n",
            "Tokenized input:\n",
            "['[CLS]', '자동차', '##의', '연료', '##가', '소모', '##되', '##면서', '발생', '##하', '##는', '오염', '##물', '##질', '두', '##가지', '##를', '써', '##보', '##시오', '.', '[SEP]', '1960', '##년', '##대', '산업', '##과', ',', '자동차', '기술', '발달', '##로', '인해', '유럽', '등', '선진국', '##들', '##을', '중심', '##으로', '점점', '더', '많', '##은', '사람', '##들이', '승용차', '##를', '갖', '##게', '된다', '.', '10', '##년', '사이', '##에', '유럽', '##에서', '##는', '자동차', '##수', '##가', '2', '##배', '이상', '##으로', '증가', '##했', '##다', '.', '이제', '사람', '##들', '##은', '차', '##를', '타고', '언제', '어디', '##서', '##나', '원하', '##는', '곳', '##에', '갈', '수', '있', '##게', '된', '것', '##이다', '.', '지금', '##도', '자동차', '##의', '수요', '##는', '계속', '증가', '##하고', '있', '##다', '.', '자동차', '##의', '수요', '증가', '##는', '인구', '##의', '도심', '집중', '##을', '완화', '##시', '##키', '##는데', '##도', '도움', '##을', '줬', '##다', '.', '대중교통', '##으로', '##는', '접근', '##하기', '어려웠', '##던', '상대', '##적으로', '먼', '지역', '##에서', '저렴', '##한', '집', '##을', '살', '수', '있', '##고', ',', '자가용', '##을', '이용', '##하여', '이동', '##할', '수', '있', '##기', '때문', '##이다', '.', '처음', '##엔', '도시', '##의', '중심', '##에', '주거지', '##역', '##이', '형성', '##되', '##고', ',', '차츰', '중심', '##에서', '##부터', '동심', '##원', '##이', '커지', '##면서', '도시', '##의', '규모', '##가', '커지', '##는', '것', '##이다', '.', '물론', '늘어나', '##는', '자동차', '##를', '수용', '##하기', '위해', '새로', '도로', '##도', '건설', '##하고', '교차로', ',', '순환도로', ',', '고속도로', '등', '##을', '건설', '##해야', '했', '##다', '.', '다시', '말', '##해서', '이동', '##시간', '##을', '빠르', '##게', '하', '##기', '위해', '자가용', '##과', '도로', '##의', '확충', '등', '교통', '##시스', '##템', '##이', '발전', '##한', '것', '##이다', '.', '환경', '##오', '##염', '문제', '##도', '대중교통', '##이', '발전', '##하', '##게', '된', '계기', '##다', '.', '자동차', '##의', '연료', '##가', '소모', '##되', '##며', '질소', '산화물', ',', '일산', '##화', '##탄', '##소', ',', '불', '##완', '##전', '연소', '##로', '인한', '탄', '##화', '##수', '##소', ',', '먼지', '등', '오염', '##물', '##질', '##도', '함께', '배출', '##된', '##다', '.', '1990', '##년', '##대', '##쯤', '##에', '##는', '자동차', '##에서', '이산화', '##황', '##도', '배출', '##됐', '##다', '.', '[SEP]', '[PAD]', '[PAD]', '[PAD]', '[PAD]', '[PAD]', '[PAD]', '[PAD]', '[PAD]', '[PAD]', '[PAD]', '[PAD]', '[PAD]', '[PAD]', '[PAD]', '[PAD]', '[PAD]', '[PAD]', '[PAD]', '[PAD]', '[PAD]', '[PAD]', '[PAD]', '[PAD]', '[PAD]', '[PAD]', '[PAD]', '[PAD]', '[PAD]', '[PAD]', '[PAD]', '[PAD]', '[PAD]', '[PAD]', '[PAD]', '[PAD]', '[PAD]', '[PAD]', '[PAD]', '[PAD]', '[PAD]', '[PAD]', '[PAD]', '[PAD]', '[PAD]', '[PAD]', '[PAD]', '[PAD]', '[PAD]', '[PAD]', '[PAD]', '[PAD]', '[PAD]', '[PAD]', '[PAD]', '[PAD]', '[PAD]', '[PAD]', '[PAD]', '[PAD]', '[PAD]', '[PAD]', '[PAD]', '[PAD]', '[PAD]', '[PAD]', '[PAD]', '[PAD]', '[PAD]', '[PAD]', '[PAD]', '[PAD]', '[PAD]', '[PAD]', '[PAD]', '[PAD]', '[PAD]', '[PAD]', '[PAD]', '[PAD]', '[PAD]', '[PAD]', '[PAD]', '[PAD]', '[PAD]', '[PAD]', '[PAD]', '[PAD]', '[PAD]', '[PAD]', '[PAD]', '[PAD]', '[PAD]', '[PAD]', '[PAD]', '[PAD]', '[PAD]', '[PAD]', '[PAD]', '[PAD]', '[PAD]', '[PAD]', '[PAD]', '[PAD]', '[PAD]', '[PAD]', '[PAD]', '[PAD]', '[PAD]', '[PAD]', '[PAD]', '[PAD]', '[PAD]', '[PAD]', '[PAD]', '[PAD]', '[PAD]', '[PAD]', '[PAD]', '[PAD]', '[PAD]', '[PAD]', '[PAD]', '[PAD]', '[PAD]', '[PAD]', '[PAD]', '[PAD]', '[PAD]', '[PAD]', '[PAD]', '[PAD]', '[PAD]', '[PAD]', '[PAD]', '[PAD]', '[PAD]', '[PAD]', '[PAD]', '[PAD]', '[PAD]', '[PAD]', '[PAD]', '[PAD]', '[PAD]', '[PAD]', '[PAD]', '[PAD]', '[PAD]', '[PAD]', '[PAD]', '[PAD]', '[PAD]', '[PAD]', '[PAD]', '[PAD]', '[PAD]', '[PAD]', '[PAD]', '[PAD]', '[PAD]', '[PAD]', '[PAD]', '[PAD]', '[PAD]', '[PAD]', '[PAD]', '[PAD]', '[PAD]', '[PAD]', '[PAD]', '[PAD]', '[PAD]', '[PAD]', '[PAD]', '[PAD]', '[PAD]', '[PAD]', '[PAD]', '[PAD]', '[PAD]', '[PAD]', '[PAD]', '[PAD]', '[PAD]', '[PAD]', '[PAD]', '[PAD]', '[PAD]', '[PAD]', '[PAD]', '[PAD]', '[PAD]', '[PAD]', '[PAD]', '[PAD]', '[PAD]', '[PAD]', '[PAD]', '[PAD]', '[PAD]', '[PAD]', '[PAD]', '[PAD]', '[PAD]', '[PAD]']\n",
            "\n",
            "Answer start position: 261\n",
            "Answer end position: 267\n",
            "\n",
            "Predicted answer: 질소 산화물, 일산화탄소\n",
            "Answer is within the context.\n",
            "\n",
            "==================================================\n",
            "Original Question: 해리 포터 시리즈중 해리 포터와 마법사의 돌, 해리 포터와 비밀의 방의 영화에 감독을 맡은 인물은 누구인가? 1998년 10월, 워너 브라더스는 《 해리 포터 》 시리즈의 두 편의 소설 《 해리 포터와 마법사의 돌 》, 《 해리 포터와 비밀의 방 》 의 영화 판권을 구입하였고, 크리스 콜럼버스가 감독을 맡아 《 해리 포터와 마법사의 돌 》 는 2001년 11월 16일에 개봉하였고, 《 해리 포터와 비밀의 방 》 2002년 11월 15일에 개봉되었다. 《 해리 포터와 아즈카반의 죄수 》 는 2004년 6월 4일에 개봉 되었고 감독은 알폰소 쿠아론이 맡았다. 네 번째 영화 《 해리포터와 불의 잔 》 은 마이크 뉴얼이 감독을 맡아, 2005년 11월 18일에 개봉했다. 《 해리 포터와 불사조 기사단 》 은 2007년 7월 11일에 개봉하였고, 감독은 데이비드 예이츠가 맡았다. 《 해리 포터와 혼혈 왕자 》 는 2009년 7월 15일에 개봉 되었고, 예이츠가 다시 감독을 맡았다. 영화 시리즈의 최종장인 《 해리 포터와 죽음의 성물 1부 》 는 2010년 11월에 개봉 되었고, 《 해리 포터와 죽음의 성물 2부 》 는 2011년 7월에 개봉 되었다. 예이츠는 두 편의 감독을 맡았다.\n",
            "\n",
            "Tokenized input:\n",
            "['[CLS]', '해리', '포터', '시리즈', '##중', '해리', '포터', '##와', '마법사', '##의', '돌', ',', '해리', '포터', '##와', '비밀', '##의', '방', '##의', '영화', '##에', '감독', '##을', '맡', '##은', '인물', '##은', '누구', '##인', '##가', '?', '[SEP]', '1998', '##년', '10', '##월', ',', '워너', '브라더스', '##는', '《', '해리', '포터', '》', '시리즈', '##의', '두', '편의', '소설', '《', '해리', '포터', '##와', '마법사', '##의', '돌', '》', ',', '《', '해리', '포터', '##와', '비밀', '##의', '방', '》', '의', '영화', '판권', '##을', '구입', '##하', '##였', '##고', ',', '크리스', '콜럼버스', '##가', '감독', '##을', '맡', '##아', '《', '해리', '포터', '##와', '마법사', '##의', '돌', '》', '는', '2001', '##년', '11', '##월', '16', '##일', '##에', '개봉', '##하', '##였', '##고', ',', '《', '해리', '포터', '##와', '비밀', '##의', '방', '》', '2002', '##년', '11', '##월', '15', '##일', '##에', '개봉', '##되', '##었', '##다', '.', '《', '해리', '포터', '##와', '아', '##즈', '##카', '##반', '##의', '죄수', '》', '는', '2004', '##년', '6', '##월', '4', '##일', '##에', '개봉', '되', '##었', '##고', '감독', '##은', '알', '##폰', '##소', '쿠', '##아', '##론', '##이', '맡', '##았', '##다', '.', '네', '번', '##째', '영화', '《', '해리', '##포터', '##와', '불의', '잔', '》', '은', '마이크', '뉴', '##얼', '##이', '감독', '##을', '맡', '##아', ',', '2005', '##년', '11', '##월', '18', '##일', '##에', '개봉', '##했', '##다', '.', '《', '해리', '포터', '##와', '불사', '##조', '기사단', '》', '은', '2007', '##년', '7', '##월', '11', '##일', '##에', '개봉', '##하', '##였', '##고', ',', '감독', '##은', '데이비드', '예', '##이', '##츠', '##가', '맡', '##았', '##다', '.', '《', '해리', '포터', '##와', '혼혈', '왕자', '》', '는', '2009', '##년', '7', '##월', '15', '##일', '##에', '개봉', '되', '##었', '##고', ',', '예', '##이', '##츠', '##가', '다시', '감독', '##을', '맡', '##았', '##다', '.', '영화', '시리즈', '##의', '최종', '##장', '##인', '《', '해리', '포터', '##와', '죽음', '##의', '성', '##물', '1', '##부', '》', '는', '2010', '##년', '11', '##월', '##에', '개봉', '되', '##었', '##고', ',', '《', '해리', '포터', '##와', '죽음', '##의', '성', '##물', '2', '##부', '》', '는', '2011', '##년', '7', '##월', '##에', '개봉', '되', '##었', '##다', '.', '예', '##이', '##츠', '##는', '두', '편의', '감독', '##을', '맡', '##았', '##다', '.', '[SEP]', '[PAD]', '[PAD]', '[PAD]', '[PAD]', '[PAD]', '[PAD]', '[PAD]', '[PAD]', '[PAD]', '[PAD]', '[PAD]', '[PAD]', '[PAD]', '[PAD]', '[PAD]', '[PAD]', '[PAD]', '[PAD]', '[PAD]', '[PAD]', '[PAD]', '[PAD]', '[PAD]', '[PAD]', '[PAD]', '[PAD]', '[PAD]', '[PAD]', '[PAD]', '[PAD]', '[PAD]', '[PAD]', '[PAD]', '[PAD]', '[PAD]', '[PAD]', '[PAD]', '[PAD]', '[PAD]', '[PAD]', '[PAD]', '[PAD]', '[PAD]', '[PAD]', '[PAD]', '[PAD]', '[PAD]', '[PAD]', '[PAD]', '[PAD]', '[PAD]', '[PAD]', '[PAD]', '[PAD]', '[PAD]', '[PAD]', '[PAD]', '[PAD]', '[PAD]', '[PAD]', '[PAD]', '[PAD]', '[PAD]', '[PAD]', '[PAD]', '[PAD]', '[PAD]', '[PAD]', '[PAD]', '[PAD]', '[PAD]', '[PAD]', '[PAD]', '[PAD]', '[PAD]', '[PAD]', '[PAD]', '[PAD]', '[PAD]', '[PAD]', '[PAD]', '[PAD]', '[PAD]', '[PAD]', '[PAD]', '[PAD]', '[PAD]', '[PAD]', '[PAD]', '[PAD]', '[PAD]', '[PAD]', '[PAD]', '[PAD]', '[PAD]', '[PAD]', '[PAD]', '[PAD]', '[PAD]', '[PAD]', '[PAD]', '[PAD]', '[PAD]', '[PAD]', '[PAD]', '[PAD]', '[PAD]', '[PAD]', '[PAD]', '[PAD]', '[PAD]', '[PAD]', '[PAD]', '[PAD]', '[PAD]', '[PAD]', '[PAD]', '[PAD]', '[PAD]', '[PAD]', '[PAD]', '[PAD]', '[PAD]', '[PAD]', '[PAD]', '[PAD]', '[PAD]', '[PAD]', '[PAD]', '[PAD]', '[PAD]', '[PAD]', '[PAD]', '[PAD]', '[PAD]', '[PAD]', '[PAD]', '[PAD]', '[PAD]', '[PAD]', '[PAD]', '[PAD]', '[PAD]', '[PAD]', '[PAD]', '[PAD]', '[PAD]', '[PAD]', '[PAD]', '[PAD]', '[PAD]', '[PAD]', '[PAD]', '[PAD]', '[PAD]', '[PAD]', '[PAD]', '[PAD]', '[PAD]', '[PAD]', '[PAD]', '[PAD]', '[PAD]', '[PAD]', '[PAD]', '[PAD]', '[PAD]', '[PAD]', '[PAD]', '[PAD]', '[PAD]', '[PAD]', '[PAD]', '[PAD]', '[PAD]', '[PAD]', '[PAD]', '[PAD]', '[PAD]', '[PAD]', '[PAD]', '[PAD]', '[PAD]', '[PAD]', '[PAD]', '[PAD]', '[PAD]', '[PAD]', '[PAD]', '[PAD]', '[PAD]', '[PAD]', '[PAD]', '[PAD]', '[PAD]']\n",
            "\n",
            "Answer start position: 75\n",
            "Answer end position: 76\n",
            "\n",
            "Predicted answer: 크리스 콜럼버스\n",
            "Answer is within the context.\n",
            "\n",
            "==================================================\n",
            "Original Question: 동일본대지진과 유사한 지진이 주기적으로 반복된다는 것은 무엇에 대한 조사를 통하여 밝혀졌는가? 동일본대지진의 진원지는 869년 ( 조간 11년 ) 미야기 현에서 후쿠시마 현 태평양 연안에 일어났던 M8. 4 ( 일본산업기술종합연구소 추측 ) 의 조간 지진이 일어났던 추측 진원지와 거의 비슷했고, 지진이 일어난 직후부터 869년 지진의 재림이 아닌가는 주장이 일었다. 조간 지진은 문헌상으로만 남은 역사적 지진이었으나, 2000년대 이후 해일퇴적물 조사를 통해 이시노마키 시와 히가시마쓰시마 시 내륙 3km, 센다이 시 내륙 2km, 나토리 시와 이와누마 시 내륙 4km, 와타리 정과 야마모토 정 내륙 2km까지 해일이 밀고들어온 거대지진임이 밝혀졌다. 또한 퇴적물의 정밀조사를 통해 기원전 390년경, 기원후 430년경, 869년, 1500년경 등 비슷한 지진이 4차례 발생했었고 이 지역 지진의 주기는 450 - 800년 정도로 추측되었다. 또한 도호쿠 가쿠인 대학 지질학과에서도 약 2천년 전 야요이 시대에 지진해일이 일어난 적이 있으며, 이때도 센다이 평야가 동일본대지진과 비슷하게 침수된 것으로 추측된다는 연구를 발표했다. 이러한 점 등을 고려하여 도호쿠 지방 태평양 해역 지진이 일어난 후 다시 시작된 해구형 지진 장기 예측 재검토에서, 일본 정부 지진조사위원회는 2011년 11월 24일 지진 해일 퇴적물 조사 결과에 기원전 4 - 3세기 경, 기원후 4 - 5세기 경, 869년 조간 지진, 15세기 경, 2011년의 지진 등 총 5회 지진이 산리쿠에서 보소 반도에 걸쳐 일어났으며 약 600년의 주기로 해구형 지진이 오고 있으며, 다음번에 올 지진은 규모 M8. 3 - 9. 0이 될 것이라 발표했다. 여기서 869년 조간 지진은 일본 해구 깊은 곳에서 일어났으며, 1896년 메이지 산리쿠 해역 지진은 일본 해구 곳 두 판의 경계 근처에서 일어난 지진이었기 때문에 이번 2011년의 지진은 ' 조간 지진과 메이지 산\n",
            "\n",
            "Tokenized input:\n",
            "['[CLS]', '동일', '##본', '##대', '##지', '##진', '##과', '유사', '##한', '지진', '##이', '주기', '##적으로', '반복', '##된', '##다는', '것', '##은', '무엇', '##에', '대한', '조사', '##를', '통하', '##여', '밝혀졌', '##는', '##가', '?', '[SEP]', '동일', '##본', '##대', '##지', '##진', '##의', '진원지', '##는', '86', '##9', '##년', '(', '조', '##간', '11', '##년', ')', '미야', '##기', '현', '##에서', '후쿠시마', '현', '태평양', '연안', '##에', '일어났', '##던', 'M', '##8', '.', '4', '(', '일본', '##산업', '##기술', '##종합', '##연구소', '추측', ')', '의', '조', '##간', '지진', '##이', '일어났', '##던', '추측', '진원지', '##와', '거의', '비슷', '##했', '##고', ',', '지진', '##이', '일어난', '직후', '##부터', '86', '##9', '##년', '지진', '##의', '재', '##림', '##이', '아닌가', '##는', '주장', '##이', '일', '##었', '##다', '.', '조', '##간', '지진', '##은', '문헌', '##상', '##으로', '##만', '남', '##은', '역사', '##적', '지진', '##이', '##었', '##으나', ',', '2000', '##년', '##대', '이후', '해', '##일', '##퇴', '##적', '##물', '조사', '##를', '통해', '이시', '##노', '##마', '##키', '시', '##와', '히', '##가', '##시마', '##쓰', '##시마', '시', '내륙', '3', '##k', '##m', ',', '센', '##다이', '시', '내륙', '2', '##k', '##m', ',', '나토', '##리', '시', '##와', '이와', '##누', '##마', '시', '내륙', '4', '##k', '##m', ',', '와', '##타리', '정', '##과', '야마', '##모토', '정', '내륙', '2', '##k', '##m', '##까', '##지', '해', '##일', '##이', '밀', '##고', '##들', '##어', '##온', '거대', '##지', '##진', '##임', '##이', '밝혀졌', '##다', '.', '또한', '퇴적', '##물', '##의', '정밀', '##조사', '##를', '통해', '기원전', '390', '##년', '##경', ',', '기원', '##후', '430', '##년', '##경', ',', '86', '##9', '##년', ',', '1500', '##년', '##경', '등', '비슷', '##한', '지진', '##이', '4', '##차례', '발생', '##했', '##었', '##고', '이', '지역', '지진', '##의', '주기', '##는', '450', '-', '800', '##년', '정도', '##로', '추측', '##되', '##었', '##다', '.', '또한', '도', '##호', '##쿠', '가', '##쿠', '##인', '대학', '지질', '##학', '##과', '##에서', '##도', '약', '2', '##천', '##년', '전', '야', '##요', '##이', '시대', '##에', '지진', '##해', '##일', '##이', '일어난', '적', '##이', '있', '##으며', ',', '이때', '##도', '센', '##다이', '평야', '##가', '동일', '##본', '##대', '##지', '##진', '##과', '비슷', '##하', '##게', '침수', '##된', '것', '##으로', '추측', '##된', '##다는', '연구', '##를', '발표', '##했', '##다', '.', '이러', '##한', '점', '등', '##을', '고려', '##하여', '도', '##호', '##쿠', '지방', '태평양', '해역', '지진', '##이', '일어난', '후', '다시', '시작', '##된', '해', '##구', '##형', '지진', '장기', '예측', '재검토', '##에서', ',', '일본', '정부', '지진', '##조사', '##위원회', '##는', '2011', '##년', '11', '##월', '24', '##일', '지진', '해', '##일', '퇴적', '##물', '조사', '결과', '##에', '기원전', '4', '-', '3', '##세기', '경', ',', '기원', '##후', '4', '-', '5', '##세기', '경', ',', '86', '##9', '##년', '조', '##간', '지진', ',', '15', '##세기', '경', ',', '2011', '##년', '##의', '지진', '등', '총', '5', '##회', '지진', '##이', '산', '##리', '##쿠', '##에서', '보', '##소', '반도', '##에', '걸쳐', '일어났', '##으며', '약', '600', '##년', '##의', '주기', '##로', '해', '##구', '##형', '지진', '##이', '오', '##고', '있', '##으며', ',', '다음', '##번에', '올', '지진', '##은', '규모', 'M', '##8', '.', '3', '-', '9', '.', '0', '##이', '될', '것', '##이', '##라', '발표', '##했', '##다', '.', '여기', '##서', '86', '##9', '##년', '조', '##간', '지진', '##은', '일본', '해', '##구', '깊', '##은', '곳', '##에서', '일어났', '##으며', ',', '1896', '##년', '메이지', '산', '##리', '##쿠', '해역', '지진', '##은', '일본', '해', '##구', '[UNK]', '곳', '두', '판', '##의', '경계', '근처', '##에서', '일어난', '지진', '##이', '##었', '##기', '때문', '##에', '이번', '2011', '##년', '##의', '지진', '##은', \"'\", '조', '##간', '지진', '##과', '메이지', '산', '[SEP]']\n",
            "\n",
            "Answer start position: 127\n",
            "Answer end position: 131\n",
            "\n",
            "Predicted answer: 해일퇴적물\n",
            "Answer is within the context.\n"
          ]
        }
      ],
      "source": [
        "import random\n",
        "\n",
        "def check_sample(dataset, tokenizer, idx=None):\n",
        "    if idx is None:\n",
        "        idx = random.randint(0, len(dataset) - 1)\n",
        "\n",
        "    sample = dataset[idx]\n",
        "\n",
        "    # 원본 텍스트 출력\n",
        "    print(\"Original Question:\", tokenizer.decode(sample['input_ids'], skip_special_tokens=True))\n",
        "\n",
        "    # 토큰화된 입력 확인\n",
        "    print(\"\\nTokenized input:\")\n",
        "    print(tokenizer.convert_ids_to_tokens(sample['input_ids']))\n",
        "\n",
        "    # 답변 위치 확인\n",
        "    start_pos = sample['start_positions']\n",
        "    end_pos = sample['end_positions']\n",
        "    print(f\"\\nAnswer start position: {start_pos}\")\n",
        "    print(f\"Answer end position: {end_pos}\")\n",
        "\n",
        "    # 예측된 답변 출력\n",
        "    predicted_answer = tokenizer.decode(sample['input_ids'][start_pos:end_pos+1])\n",
        "    print(f\"\\nPredicted answer: {predicted_answer}\")\n",
        "\n",
        "    # 답변이 문맥 내에 있는지 확인\n",
        "    context_start = sample['input_ids'].index(tokenizer.sep_token_id) + 1\n",
        "    if start_pos >= context_start and end_pos >= context_start:\n",
        "        print(\"Answer is within the context.\")\n",
        "    else:\n",
        "        print(\"Warning: Answer position is not within the context.\")\n",
        "\n",
        "# 데이터셋에서 무작위로 5개의 샘플 확인\n",
        "for _ in range(5):\n",
        "    print(\"\\n\" + \"=\"*50)\n",
        "    check_sample(tokenized_datasets['train'], tokenizer)\n"
      ]
    },
    {
      "cell_type": "markdown",
      "source": [
        "샘플을 확인해 보았을 때도 토큰단위로 start, end position이 잘 매핑됨을 확인할 수 있었습니다.\n",
        "\n",
        "# 2. 모델 파인튜닝\n",
        "\n",
        "저는 klue/bert-base모델을 사용하였습니다.\n",
        "이는 한국어 데이터셋으로 학습된 BERT모델로 사용하기 적합하다고 판단하였습니다.\n",
        "\n",
        "또한 AutoModelForQuestionAnswering 라이브러리를 사용했는데, 이는 자동으로 각 토큰이 시작 위치일 확률을 나타내는 logit과 끝 위치일 확률을 나타내는 logit을 output으로 내뱉는다고 합니다."
      ],
      "metadata": {
        "id": "3jNEE-weTOa3"
      },
      "id": "3jNEE-weTOa3"
    },
    {
      "cell_type": "code",
      "execution_count": null,
      "id": "32ba66cf-fba9-476e-80d7-03da2aa35a5a",
      "metadata": {
        "execution": {
          "iopub.execute_input": "2025-02-22T12:05:00.611548Z",
          "iopub.status.busy": "2025-02-22T12:05:00.610674Z",
          "iopub.status.idle": "2025-02-22T12:05:01.176544Z",
          "shell.execute_reply": "2025-02-22T12:05:01.175198Z",
          "shell.execute_reply.started": "2025-02-22T12:05:00.611481Z"
        },
        "id": "32ba66cf-fba9-476e-80d7-03da2aa35a5a",
        "outputId": "b93a1fb6-9081-450a-ad8f-af657c90c8b1"
      },
      "outputs": [
        {
          "name": "stderr",
          "output_type": "stream",
          "text": [
            "Some weights of BertForQuestionAnswering were not initialized from the model checkpoint at klue/bert-base and are newly initialized: ['qa_outputs.bias', 'qa_outputs.weight']\n",
            "You should probably TRAIN this model on a down-stream task to be able to use it for predictions and inference.\n"
          ]
        }
      ],
      "source": [
        "from transformers import AutoModelForQuestionAnswering, AutoTokenizer\n",
        "import torch\n",
        "\n",
        "model_name = \"klue/bert-base\"\n",
        "model = AutoModelForQuestionAnswering.from_pretrained(model_name)\n",
        "tokenizer = AutoTokenizer.from_pretrained(model_name)"
      ]
    },
    {
      "cell_type": "code",
      "execution_count": null,
      "id": "85179abb-9aca-4815-954d-746c47e510d4",
      "metadata": {
        "execution": {
          "iopub.execute_input": "2025-02-22T12:05:04.346919Z",
          "iopub.status.busy": "2025-02-22T12:05:04.346080Z",
          "iopub.status.idle": "2025-02-22T12:05:04.363744Z",
          "shell.execute_reply": "2025-02-22T12:05:04.362081Z",
          "shell.execute_reply.started": "2025-02-22T12:05:04.346854Z"
        },
        "id": "85179abb-9aca-4815-954d-746c47e510d4",
        "outputId": "7c6cc87a-5d6c-46e0-d2a3-b1df9007a05b"
      },
      "outputs": [
        {
          "data": {
            "text/plain": [
              "BertForQuestionAnswering(\n",
              "  (bert): BertModel(\n",
              "    (embeddings): BertEmbeddings(\n",
              "      (word_embeddings): Embedding(32000, 768, padding_idx=0)\n",
              "      (position_embeddings): Embedding(512, 768)\n",
              "      (token_type_embeddings): Embedding(2, 768)\n",
              "      (LayerNorm): LayerNorm((768,), eps=1e-12, elementwise_affine=True)\n",
              "      (dropout): Dropout(p=0.1, inplace=False)\n",
              "    )\n",
              "    (encoder): BertEncoder(\n",
              "      (layer): ModuleList(\n",
              "        (0-11): 12 x BertLayer(\n",
              "          (attention): BertAttention(\n",
              "            (self): BertSdpaSelfAttention(\n",
              "              (query): Linear(in_features=768, out_features=768, bias=True)\n",
              "              (key): Linear(in_features=768, out_features=768, bias=True)\n",
              "              (value): Linear(in_features=768, out_features=768, bias=True)\n",
              "              (dropout): Dropout(p=0.1, inplace=False)\n",
              "            )\n",
              "            (output): BertSelfOutput(\n",
              "              (dense): Linear(in_features=768, out_features=768, bias=True)\n",
              "              (LayerNorm): LayerNorm((768,), eps=1e-12, elementwise_affine=True)\n",
              "              (dropout): Dropout(p=0.1, inplace=False)\n",
              "            )\n",
              "          )\n",
              "          (intermediate): BertIntermediate(\n",
              "            (dense): Linear(in_features=768, out_features=3072, bias=True)\n",
              "            (intermediate_act_fn): GELUActivation()\n",
              "          )\n",
              "          (output): BertOutput(\n",
              "            (dense): Linear(in_features=3072, out_features=768, bias=True)\n",
              "            (LayerNorm): LayerNorm((768,), eps=1e-12, elementwise_affine=True)\n",
              "            (dropout): Dropout(p=0.1, inplace=False)\n",
              "          )\n",
              "        )\n",
              "      )\n",
              "    )\n",
              "  )\n",
              "  (qa_outputs): Linear(in_features=768, out_features=2, bias=True)\n",
              ")"
            ]
          },
          "execution_count": 39,
          "metadata": {},
          "output_type": "execute_result"
        }
      ],
      "source": [
        "model"
      ]
    },
    {
      "cell_type": "markdown",
      "source": [
        "허깅페이스의 Trainer를 사용하여 학습을 위한 설정을 진행하였습니다."
      ],
      "metadata": {
        "id": "reXmtyBoV8tZ"
      },
      "id": "reXmtyBoV8tZ"
    },
    {
      "cell_type": "code",
      "execution_count": null,
      "id": "91041781-b7ae-4894-9dce-5745b8dbcfd2",
      "metadata": {
        "execution": {
          "iopub.execute_input": "2025-02-22T12:23:37.109472Z",
          "iopub.status.busy": "2025-02-22T12:23:37.108925Z",
          "iopub.status.idle": "2025-02-22T12:23:44.449810Z",
          "shell.execute_reply": "2025-02-22T12:23:44.448984Z",
          "shell.execute_reply.started": "2025-02-22T12:23:37.109438Z"
        },
        "scrolled": true,
        "id": "91041781-b7ae-4894-9dce-5745b8dbcfd2",
        "outputId": "ad791c7c-43f8-44cb-db11-75cb65210828"
      },
      "outputs": [
        {
          "name": "stderr",
          "output_type": "stream",
          "text": [
            "Detected kernel version 3.10.0, which is below the recommended minimum of 5.5.0; this can cause the process to hang. It is recommended to upgrade the kernel to the minimum version or higher.\n"
          ]
        }
      ],
      "source": [
        "# 학습 설정\n",
        "training_args = TrainingArguments(\n",
        "    output_dir=\"./model\",\n",
        "    eval_strategy=\"epoch\", # 매 에폭마다 evaluation\n",
        "    save_strategy=\"epoch\", # 매 에폭마다 모델 저장\n",
        "    logging_dir=\"./logs\",\n",
        "    logging_strategy=\"steps\", # step 간격으로 log기록\n",
        "    logging_steps=10,\n",
        "    per_device_train_batch_size=8, # 배치사이즈\n",
        "    per_device_eval_batch_size=8,\n",
        "    learning_rate=2e-5,\n",
        "    num_train_epochs=3, # finetuning이기 때문에 조금만 학습시켰음\n",
        "    weight_decay=0.01,\n",
        ")\n",
        "\n",
        "# trainer 객체 생성\n",
        "trainer = Trainer(\n",
        "    model=model,\n",
        "    args=training_args,\n",
        "    train_dataset=tokenized_datasets[\"train\"],\n",
        "    eval_dataset=tokenized_datasets[\"validation\"],\n",
        ")"
      ]
    },
    {
      "cell_type": "code",
      "execution_count": null,
      "id": "4908cc47-5450-4076-b32d-22ee997865d2",
      "metadata": {
        "execution": {
          "iopub.execute_input": "2025-02-22T12:23:44.453312Z",
          "iopub.status.busy": "2025-02-22T12:23:44.453065Z"
        },
        "id": "4908cc47-5450-4076-b32d-22ee997865d2",
        "outputId": "0e01ffbf-971e-4b11-ec49-425c29916c51"
      },
      "outputs": [
        {
          "name": "stderr",
          "output_type": "stream",
          "text": [
            "2025/02/22 21:23:45 INFO mlflow.tracking.fluent: Experiment with name 'experiment_2873' does not exist. Creating a new experiment.\n",
            "\u001b[34m\u001b[1mwandb\u001b[0m: \u001b[33mWARNING\u001b[0m The `run_name` is currently set to the same value as `TrainingArguments.output_dir`. If this was not intended, please specify a different run name by setting the `TrainingArguments.run_name` parameter.\n",
            "\u001b[34m\u001b[1mwandb\u001b[0m: Using wandb-core as the SDK backend.  Please refer to https://wandb.me/wandb-core for more information.\n",
            "\u001b[34m\u001b[1mwandb\u001b[0m: Logging into wandb.ai. (Learn how to deploy a W&B server locally: https://wandb.me/wandb-server)\n",
            "\u001b[34m\u001b[1mwandb\u001b[0m: You can find your API key in your browser here: https://wandb.ai/authorize\n",
            "\u001b[34m\u001b[1mwandb\u001b[0m: Paste an API key from your profile and hit enter:"
          ]
        },
        {
          "name": "stdin",
          "output_type": "stream",
          "text": [
            "  ········\n"
          ]
        },
        {
          "name": "stderr",
          "output_type": "stream",
          "text": [
            "\u001b[34m\u001b[1mwandb\u001b[0m: \u001b[33mWARNING\u001b[0m If you're specifying your api key in code, ensure this code is not shared publicly.\n",
            "\u001b[34m\u001b[1mwandb\u001b[0m: \u001b[33mWARNING\u001b[0m Consider setting the WANDB_API_KEY environment variable, or running `wandb login` from the command line.\n",
            "\u001b[34m\u001b[1mwandb\u001b[0m: No netrc file found, creating one.\n",
            "\u001b[34m\u001b[1mwandb\u001b[0m: Appending key for api.wandb.ai to your netrc file: /home/20223175/.netrc\n",
            "\u001b[34m\u001b[1mwandb\u001b[0m: Currently logged in as: \u001b[33m1004bse\u001b[0m (\u001b[33m1004bse-\u001b[0m) to \u001b[32mhttps://api.wandb.ai\u001b[0m. Use \u001b[1m`wandb login --relogin`\u001b[0m to force relogin\n"
          ]
        },
        {
          "data": {
            "text/html": [
              "Tracking run with wandb version 0.19.7"
            ],
            "text/plain": [
              "<IPython.core.display.HTML object>"
            ]
          },
          "metadata": {},
          "output_type": "display_data"
        },
        {
          "data": {
            "text/html": [
              "Run data is saved locally in <code>/home/20223175/wandb/run-20250222_212744-tpkpe0xz</code>"
            ],
            "text/plain": [
              "<IPython.core.display.HTML object>"
            ]
          },
          "metadata": {},
          "output_type": "display_data"
        },
        {
          "data": {
            "text/html": [
              "Syncing run <strong><a href='https://wandb.ai/1004bse-/huggingface/runs/tpkpe0xz' target=\"_blank\">./model</a></strong> to <a href='https://wandb.ai/1004bse-/huggingface' target=\"_blank\">Weights & Biases</a> (<a href='https://wandb.me/developer-guide' target=\"_blank\">docs</a>)<br>"
            ],
            "text/plain": [
              "<IPython.core.display.HTML object>"
            ]
          },
          "metadata": {},
          "output_type": "display_data"
        },
        {
          "data": {
            "text/html": [
              " View project at <a href='https://wandb.ai/1004bse-/huggingface' target=\"_blank\">https://wandb.ai/1004bse-/huggingface</a>"
            ],
            "text/plain": [
              "<IPython.core.display.HTML object>"
            ]
          },
          "metadata": {},
          "output_type": "display_data"
        },
        {
          "data": {
            "text/html": [
              " View run at <a href='https://wandb.ai/1004bse-/huggingface/runs/tpkpe0xz' target=\"_blank\">https://wandb.ai/1004bse-/huggingface/runs/tpkpe0xz</a>"
            ],
            "text/plain": [
              "<IPython.core.display.HTML object>"
            ]
          },
          "metadata": {},
          "output_type": "display_data"
        },
        {
          "data": {
            "text/html": [
              "\n",
              "    <div>\n",
              "      \n",
              "      <progress value='23520' max='23592' style='width:300px; height:20px; vertical-align: middle;'></progress>\n",
              "      [23520/23592 1:20:19 < 00:14, 4.88 it/s, Epoch 2.99/3]\n",
              "    </div>\n",
              "    <table border=\"1\" class=\"dataframe\">\n",
              "  <thead>\n",
              " <tr style=\"text-align: left;\">\n",
              "      <th>Epoch</th>\n",
              "      <th>Training Loss</th>\n",
              "      <th>Validation Loss</th>\n",
              "    </tr>\n",
              "  </thead>\n",
              "  <tbody>\n",
              "    <tr>\n",
              "      <td>1</td>\n",
              "      <td>0.387800</td>\n",
              "      <td>0.443261</td>\n",
              "    </tr>\n",
              "    <tr>\n",
              "      <td>2</td>\n",
              "      <td>0.345200</td>\n",
              "      <td>0.559194</td>\n",
              "    </tr>\n",
              "  </tbody>\n",
              "</table><p>"
            ],
            "text/plain": [
              "<IPython.core.display.HTML object>"
            ]
          },
          "metadata": {},
          "output_type": "display_data"
        }
      ],
      "source": [
        "trainer.train()"
      ]
    },
    {
      "cell_type": "code",
      "execution_count": null,
      "id": "9dcec48f-6648-4133-914a-8bcb43193397",
      "metadata": {
        "execution": {
          "iopub.execute_input": "2025-02-22T13:58:25.057761Z",
          "iopub.status.busy": "2025-02-22T13:58:25.057439Z",
          "iopub.status.idle": "2025-02-22T13:58:25.152051Z",
          "shell.execute_reply": "2025-02-22T13:58:25.151359Z",
          "shell.execute_reply.started": "2025-02-22T13:58:25.057736Z"
        },
        "id": "9dcec48f-6648-4133-914a-8bcb43193397"
      },
      "outputs": [],
      "source": [
        "import json\n",
        "\n",
        "with open(\"training_log.json\", \"w\") as f:\n",
        "    json.dump(trainer.state.log_history, f)"
      ]
    },
    {
      "cell_type": "code",
      "execution_count": null,
      "id": "fba18a25-e017-48b5-8392-de9c2a519324",
      "metadata": {
        "execution": {
          "iopub.execute_input": "2025-02-22T13:58:30.899248Z",
          "iopub.status.busy": "2025-02-22T13:58:30.898940Z",
          "iopub.status.idle": "2025-02-22T13:58:31.384635Z",
          "shell.execute_reply": "2025-02-22T13:58:31.383979Z",
          "shell.execute_reply.started": "2025-02-22T13:58:30.899225Z"
        },
        "id": "fba18a25-e017-48b5-8392-de9c2a519324",
        "outputId": "add42882-c974-4d01-82c0-7678e403afba"
      },
      "outputs": [
        {
          "data": {
            "image/png": "[encoded data removed]",
            "text/plain": [
              "<Figure size 640x480 with 1 Axes>"
            ]
          },
          "metadata": {},
          "output_type": "display_data"
        }
      ],
      "source": [
        "import matplotlib.pyplot as plt\n",
        "\n",
        "\n",
        "with open(\"training_log.json\", \"r\") as f:\n",
        "    log_data = json.load(f)\n",
        "\n",
        "\n",
        "log_data = trainer.state.log_history\n",
        "\n",
        "# Loss 값만 추출\n",
        "steps = [entry[\"step\"] for entry in log_data if \"loss\" in entry]\n",
        "loss_values = [entry[\"loss\"] for entry in log_data if \"loss\" in entry]\n",
        "\n",
        "# 그래프 그리기\n",
        "plt.plot(steps, loss_values, label=\"Training Loss\")\n",
        "plt.xlabel(\"Training Steps\")\n",
        "plt.ylabel(\"Loss\")\n",
        "plt.title(\"Training Loss Over Time\")\n",
        "plt.legend()\n",
        "plt.show()"
      ]
    },
    {
      "cell_type": "markdown",
      "source": [
        "step별로 loss를 찍어보았을 때 training loss가 굉장히 요동치는 것을 확인할 수 있었지만 epoch으로 보면 그래도 감소하는 추세를 볼 수 있었습니다."
      ],
      "metadata": {
        "id": "g1RqT6j8WwWu"
      },
      "id": "g1RqT6j8WwWu"
    },
    {
      "cell_type": "markdown",
      "source": [
        "![image.png](data:image/png;base64,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)"
      ],
      "metadata": {
        "id": "FsdqCjdmXYEM"
      },
      "id": "FsdqCjdmXYEM"
    },
    {
      "cell_type": "markdown",
      "source": [
        "evaluation loss는 학습시킬수록 증가하는 추세를 보였습니다. 훈련 데이터셋에 과적합한 것 같기도 하며 learning rate 조절을 잘못한 것 같기도 하였습니다.\n",
        "\n"
      ],
      "metadata": {
        "id": "UOYyzWGxXaRW"
      },
      "id": "UOYyzWGxXaRW"
    },
    {
      "cell_type": "markdown",
      "source": [
        "#3. 모델 평가\n",
        "\n",
        "가장 마지막에 저장된 모델의 가중치를 로드하여 성능을 평가하였습니다.\n",
        "\n",
        "평가 지표로는 EM과 F1 score를 사용하였습니다.  \n",
        "\n",
        ">EM (Exact Match): 모델의 예측이 실제 정답과 완전히 일치하는 비율\n"
      ],
      "metadata": {
        "id": "s3-o0p7rYrJj"
      },
      "id": "s3-o0p7rYrJj"
    },
    {
      "cell_type": "code",
      "execution_count": null,
      "id": "6bb2ddea-59de-45bf-ae50-4fc60f5cd2c0",
      "metadata": {
        "execution": {
          "iopub.execute_input": "2025-02-22T14:20:26.257002Z",
          "iopub.status.busy": "2025-02-22T14:20:26.256061Z",
          "iopub.status.idle": "2025-02-22T14:22:36.002110Z",
          "shell.execute_reply": "2025-02-22T14:22:36.000616Z",
          "shell.execute_reply.started": "2025-02-22T14:20:26.256969Z"
        },
        "id": "6bb2ddea-59de-45bf-ae50-4fc60f5cd2c0",
        "outputId": "38e326b7-68d4-475e-b297-4debb73577a8"
      },
      "outputs": [
        {
          "name": "stderr",
          "output_type": "stream",
          "text": [
            "/usr/gatoai/python/venv/3.10/lib/python3.10/site-packages/transformers/training_args.py:1594: FutureWarning: `evaluation_strategy` is deprecated and will be removed in version 4.46 of 🤗 Transformers. Use `eval_strategy` instead\n",
            "  warnings.warn(\n",
            "/tmp/ipykernel_5706/1520856959.py:56: FutureWarning: `tokenizer` is deprecated and will be removed in version 5.0.0 for `Trainer.__init__`. Use `processing_class` instead.\n",
            "  trainer = Trainer(\n",
            "Detected kernel version 3.10.0, which is below the recommended minimum of 5.5.0; this can cause the process to hang. It is recommended to upgrade the kernel to the minimum version or higher.\n"
          ]
        },
        {
          "name": "stdout",
          "output_type": "stream",
          "text": [
            "🏃 View run ./results at: http://127.0.0.1:5000/#/experiments/775327507505728817/runs/a072ea91698b4dc58edd2b064c85b7b2\n",
            "🧪 View experiment at: http://127.0.0.1:5000/#/experiments/775327507505728817\n"
          ]
        },
        {
          "data": {
            "text/html": [],
            "text/plain": [
              "<IPython.core.display.HTML object>"
            ]
          },
          "metadata": {},
          "output_type": "display_data"
        },
        {
          "name": "stderr",
          "output_type": "stream",
          "text": [
            "Using the latest cached version of the module from /mnt/srv/home/SHARED/huggingface/cache/modules/evaluate_modules/metrics/evaluate-metric--squad/b4e2dbca455821c7367faa26712f378254b69040ebaab90b64bdeb465e4a304d (last modified on Sat Feb 22 23:02:23 2025) since it couldn't be found locally at evaluate-metric--squad, or remotely on the Hugging Face Hub.\n"
          ]
        },
        {
          "name": "stdout",
          "output_type": "stream",
          "text": [
            "Evaluation results: {'eval_loss': 0.7416792511940002, 'eval_model_preparation_time': 0.0034, 'eval_exact_match': 85.97887896019496, 'eval_f1': 91.12259155286071, 'eval_runtime': 70.3897, 'eval_samples_per_second': 87.442, 'eval_steps_per_second': 5.47}\n",
            "Example 1:\n",
            "Context: 1989년 2월 15일 여의도 농민 폭력 시위를 주도한 혐의(폭력행위등처벌에관한법률위반)으로 지명수배되었다. 1989년 3월 12일 서울지방검찰청 공안부는 임종석의 사전구속영장을 발부받았다. 같은 해 6월 30일 평양축전에 임수경을 대표로 파견하여 국가보안법위반 혐의가 추가되었다. 경찰은 12월 18일~20일 사이 서울 경희대학교에서 임종석이 성명 발표를 추진하고 있다는 첩보를 입수했고, 12월 18일 오전 7시 40분 경 가스총과 전자봉으로 무장한 특공조 및 대공과 직원 12명 등 22명의 사복 경찰을 승용차 8대에 나누어 경희대학교에 투입했다. 1989년 12월 18일 오전 8시 15분 경 서울청량리경찰서는 호위 학생 5명과 함께 경희대학교 학생회관 건물 계단을 내려오는 임종석을 발견, 검거해 구속을 집행했다. 임종석은 청량리경찰서에서 약 1시간 동안 조사를 받은 뒤 오전 9시 50분 경 서울 장안동의 서울지방경찰청 공안분실로 인계되었다.\n",
            "Question: 임종석이 여의도 농민 폭력 시위를 주도한 혐의로 지명수배 된 날은?\n",
            "Predicted answer: 1989년 2월 15일\n",
            "Actual answer: 1989년 2월 15일\n",
            "\n",
            "Example 2:\n",
            "Context: 1989년 2월 15일 여의도 농민 폭력 시위를 주도한 혐의(폭력행위등처벌에관한법률위반)으로 지명수배되었다. 1989년 3월 12일 서울지방검찰청 공안부는 임종석의 사전구속영장을 발부받았다. 같은 해 6월 30일 평양축전에 임수경을 대표로 파견하여 국가보안법위반 혐의가 추가되었다. 경찰은 12월 18일~20일 사이 서울 경희대학교에서 임종석이 성명 발표를 추진하고 있다는 첩보를 입수했고, 12월 18일 오전 7시 40분 경 가스총과 전자봉으로 무장한 특공조 및 대공과 직원 12명 등 22명의 사복 경찰을 승용차 8대에 나누어 경희대학교에 투입했다. 1989년 12월 18일 오전 8시 15분 경 서울청량리경찰서는 호위 학생 5명과 함께 경희대학교 학생회관 건물 계단을 내려오는 임종석을 발견, 검거해 구속을 집행했다. 임종석은 청량리경찰서에서 약 1시간 동안 조사를 받은 뒤 오전 9시 50분 경 서울 장안동의 서울지방경찰청 공안분실로 인계되었다.\n",
            "Question: 1989년 6월 30일 평양축전에 대표로 파견 된 인물은?\n",
            "Predicted answer: 임수경\n",
            "Actual answer: 임수경\n",
            "\n",
            "Example 3:\n",
            "Context: 1989년 2월 15일 여의도 농민 폭력 시위를 주도한 혐의(폭력행위등처벌에관한법률위반)으로 지명수배되었다. 1989년 3월 12일 서울지방검찰청 공안부는 임종석의 사전구속영장을 발부받았다. 같은 해 6월 30일 평양축전에 임수경을 대표로 파견하여 국가보안법위반 혐의가 추가되었다. 경찰은 12월 18일~20일 사이 서울 경희대학교에서 임종석이 성명 발표를 추진하고 있다는 첩보를 입수했고, 12월 18일 오전 7시 40분 경 가스총과 전자봉으로 무장한 특공조 및 대공과 직원 12명 등 22명의 사복 경찰을 승용차 8대에 나누어 경희대학교에 투입했다. 1989년 12월 18일 오전 8시 15분 경 서울청량리경찰서는 호위 학생 5명과 함께 경희대학교 학생회관 건물 계단을 내려오는 임종석을 발견, 검거해 구속을 집행했다. 임종석은 청량리경찰서에서 약 1시간 동안 조사를 받은 뒤 오전 9시 50분 경 서울 장안동의 서울지방경찰청 공안분실로 인계되었다.\n",
            "Question: 임종석이 여의도 농민 폭력 시위를 주도한 혐의로 지명수배된 연도는?\n",
            "Predicted answer: 1989년\n",
            "Actual answer: 1989년\n",
            "\n",
            "Example 4:\n",
            "Context: 1989년 2월 15일 여의도 농민 폭력 시위를 주도한 혐의(폭력행위등처벌에관한법률위반)으로 지명수배되었다. 1989년 3월 12일 서울지방검찰청 공안부는 임종석의 사전구속영장을 발부받았다. 같은 해 6월 30일 평양축전에 임수경을 대표로 파견하여 국가보안법위반 혐의가 추가되었다. 경찰은 12월 18일~20일 사이 서울 경희대학교에서 임종석이 성명 발표를 추진하고 있다는 첩보를 입수했고, 12월 18일 오전 7시 40분 경 가스총과 전자봉으로 무장한 특공조 및 대공과 직원 12명 등 22명의 사복 경찰을 승용차 8대에 나누어 경희대학교에 투입했다. 1989년 12월 18일 오전 8시 15분 경 서울청량리경찰서는 호위 학생 5명과 함께 경희대학교 학생회관 건물 계단을 내려오는 임종석을 발견, 검거해 구속을 집행했다. 임종석은 청량리경찰서에서 약 1시간 동안 조사를 받은 뒤 오전 9시 50분 경 서울 장안동의 서울지방경찰청 공안분실로 인계되었다.\n",
            "Question: 임종석을 검거한 장소는 경희대 내 어디인가?\n",
            "Predicted answer: 서울청량리경찰서\n",
            "Actual answer: 학생회관 건물 계단\n",
            "\n",
            "Example 5:\n",
            "Context: 1989년 2월 15일 여의도 농민 폭력 시위를 주도한 혐의(폭력행위등처벌에관한법률위반)으로 지명수배되었다. 1989년 3월 12일 서울지방검찰청 공안부는 임종석의 사전구속영장을 발부받았다. 같은 해 6월 30일 평양축전에 임수경을 대표로 파견하여 국가보안법위반 혐의가 추가되었다. 경찰은 12월 18일~20일 사이 서울 경희대학교에서 임종석이 성명 발표를 추진하고 있다는 첩보를 입수했고, 12월 18일 오전 7시 40분 경 가스총과 전자봉으로 무장한 특공조 및 대공과 직원 12명 등 22명의 사복 경찰을 승용차 8대에 나누어 경희대학교에 투입했다. 1989년 12월 18일 오전 8시 15분 경 서울청량리경찰서는 호위 학생 5명과 함께 경희대학교 학생회관 건물 계단을 내려오는 임종석을 발견, 검거해 구속을 집행했다. 임종석은 청량리경찰서에서 약 1시간 동안 조사를 받은 뒤 오전 9시 50분 경 서울 장안동의 서울지방경찰청 공안분실로 인계되었다.\n",
            "Question: 임종석이 조사를 받은 뒤 인계된 곳은 어딘가?\n",
            "Predicted answer: 서울지방경찰청 공안분실\n",
            "Actual answer: 서울지방경찰청 공안분실\n",
            "\n"
          ]
        }
      ],
      "source": [
        "from transformers import AutoModelForQuestionAnswering, TrainingArguments, Trainer\n",
        "import numpy as np\n",
        "import torch\n",
        "import evaluate\n",
        "\n",
        "# 모델 및 토크나이저 로드\n",
        "model_path = \"./model/checkpoint-23592\"\n",
        "tokenizer = AutoTokenizer.from_pretrained(\"klue/bert-base\")\n",
        "model = AutoModelForQuestionAnswering.from_pretrained(model_path)\n",
        "\n",
        "def compute_metrics(eval_pred):\n",
        "    # 데이터셋에 맞는 SQuAD 지표를 활용해 평가\n",
        "    metric = evaluate.load(\"squad\")\n",
        "    predictions, labels = eval_pred\n",
        "\n",
        "    # 각 답변의 시작, 끝 위치 확률 분포\n",
        "    start_logits, end_logits = predictions\n",
        "    start_positions, end_positions = labels\n",
        "\n",
        "    predicted_answers = []\n",
        "    reference_answers = []\n",
        "\n",
        "    for i in range(len(start_logits)):\n",
        "        start_index = torch.argmax(torch.tensor(start_logits[i])).item()\n",
        "        end_index = torch.argmax(torch.tensor(end_logits[i])).item()\n",
        "\n",
        "        # 예측 답변과 실제 답변 decoding하여 비교\n",
        "        predicted_answer = tokenizer.decode(tokenized_datasets[\"validation\"][i]['input_ids'][start_index:end_index+1])\n",
        "        reference_answer = tokenizer.decode(tokenized_datasets[\"validation\"][i]['input_ids'][start_positions[i]:end_positions[i]+1])\n",
        "\n",
        "        predicted_answers.append({\"prediction_text\": predicted_answer, \"id\": str(i)})\n",
        "        reference_answers.append({\"answers\": {\"text\": [reference_answer], \"answer_start\": [start_positions[i]]}, \"id\": str(i)})\n",
        "\n",
        "    results = metric.compute(predictions=predicted_answers, references=reference_answers)\n",
        "    return results\n",
        "\n",
        "# Trainer 설정\n",
        "training_args = TrainingArguments(\n",
        "    output_dir=\"./results\",\n",
        "    eval_strategy=\"epoch\",\n",
        "    learning_rate=2e-5,\n",
        "    per_device_train_batch_size=16,\n",
        "    per_device_eval_batch_size=16,\n",
        "    num_train_epochs=3,\n",
        "    weight_decay=0.01,\n",
        ")\n",
        "\n",
        "trainer = Trainer(\n",
        "    model=model,\n",
        "    args=training_args,\n",
        "    train_dataset=tokenized_datasets[\"train\"],\n",
        "    eval_dataset=tokenized_datasets[\"validation\"],\n",
        "    compute_metrics=compute_metrics\n",
        ")\n",
        "\n",
        "# 평가 실행\n",
        "results = trainer.evaluate()\n",
        "\n",
        "print(f\"Evaluation results: {results}\")\n",
        "\n",
        "predictions = trainer.predict(tokenized_datasets[\"validation\"])\n",
        "start_logits, end_logits = predictions.predictions\n",
        "\n",
        "original_dataset = dataset[\"validation\"]\n",
        "\n",
        "# 모델 예측 답변 출력\n",
        "for i in range(5):\n",
        "    start_index = torch.argmax(torch.tensor(start_logits[i])).item()\n",
        "    end_index = torch.argmax(torch.tensor(end_logits[i])).item()\n",
        "\n",
        "    predicted_answer = tokenizer.decode(tokenized_datasets[\"validation\"][i]['input_ids'][start_index:end_index+1])\n",
        "\n",
        "    original_example = original_dataset[i]\n",
        "    context = original_example['context']\n",
        "    question = original_example['question']\n",
        "    actual_answer = original_example['answers']['text'][0]\n",
        "\n",
        "    print(f\"Example {i+1}:\")\n",
        "    print(f\"Context: {context}\")\n",
        "    print(f\"Question: {question}\")\n",
        "    print(f\"Predicted answer: {predicted_answer}\")\n",
        "    print(f\"Actual answer: {actual_answer}\")\n",
        "    print()\n"
      ]
    },
    {
      "cell_type": "markdown",
      "source": [
        "'eval_exact_match': 85.97887896019496, 'eval_f1': 91.12259155286071'로 높은 정확도로 예측한다는 것을 볼 수 있었습니다."
      ],
      "metadata": {
        "id": "jTS8KdmtkGSG"
      },
      "id": "jTS8KdmtkGSG"
    },
    {
      "cell_type": "code",
      "execution_count": null,
      "id": "b337d84a-cbe0-4fb2-a84d-1355eeb4cbd8",
      "metadata": {
        "execution": {
          "iopub.execute_input": "2025-02-22T14:34:54.419886Z",
          "iopub.status.busy": "2025-02-22T14:34:54.419525Z",
          "iopub.status.idle": "2025-02-22T14:34:54.474583Z",
          "shell.execute_reply": "2025-02-22T14:34:54.472454Z",
          "shell.execute_reply.started": "2025-02-22T14:34:54.419859Z"
        },
        "id": "b337d84a-cbe0-4fb2-a84d-1355eeb4cbd8",
        "outputId": "ef828f70-85a6-43c6-eede-90881e3d0ffd"
      },
      "outputs": [
        {
          "name": "stdout",
          "output_type": "stream",
          "text": [
            "Example 1:\n",
            "Context: 1989년 2월 15일 여의도 농민 폭력 시위를 주도한 혐의(폭력행위등처벌에관한법률위반)으로 지명수배되었다. 1989년 3월 12일 서울지방검찰청 공안부는 임종석의 사전구속영장을 발부받았다. 같은 해 6월 30일 평양축전에 임수경을 대표로 파견하여 국가보안법위반 혐의가 추가되었다. 경찰은 12월 18일~20일 사이 서울 경희대학교에서 임종석이 성명 발표를 추진하고 있다는 첩보를 입수했고, 12월 18일 오전 7시 40분 경 가스총과 전자봉으로 무장한 특공조 및 대공과 직원 12명 등 22명의 사복 경찰을 승용차 8대에 나누어 경희대학교에 투입했다. 1989년 12월 18일 오전 8시 15분 경 서울청량리경찰서는 호위 학생 5명과 함께 경희대학교 학생회관 건물 계단을 내려오는 임종석을 발견, 검거해 구속을 집행했다. 임종석은 청량리경찰서에서 약 1시간 동안 조사를 받은 뒤 오전 9시 50분 경 서울 장안동의 서울지방경찰청 공안분실로 인계되었다.\n",
            "Question: 임종석이 여의도 농민 폭력 시위를 주도한 혐의로 지명수배 된 날은?\n",
            "Predicted answer: 1989년 2월 15일\n",
            "Actual answer: 1989년 2월 15일\n",
            "\n",
            "Example 2:\n",
            "Context: 1989년 2월 15일 여의도 농민 폭력 시위를 주도한 혐의(폭력행위등처벌에관한법률위반)으로 지명수배되었다. 1989년 3월 12일 서울지방검찰청 공안부는 임종석의 사전구속영장을 발부받았다. 같은 해 6월 30일 평양축전에 임수경을 대표로 파견하여 국가보안법위반 혐의가 추가되었다. 경찰은 12월 18일~20일 사이 서울 경희대학교에서 임종석이 성명 발표를 추진하고 있다는 첩보를 입수했고, 12월 18일 오전 7시 40분 경 가스총과 전자봉으로 무장한 특공조 및 대공과 직원 12명 등 22명의 사복 경찰을 승용차 8대에 나누어 경희대학교에 투입했다. 1989년 12월 18일 오전 8시 15분 경 서울청량리경찰서는 호위 학생 5명과 함께 경희대학교 학생회관 건물 계단을 내려오는 임종석을 발견, 검거해 구속을 집행했다. 임종석은 청량리경찰서에서 약 1시간 동안 조사를 받은 뒤 오전 9시 50분 경 서울 장안동의 서울지방경찰청 공안분실로 인계되었다.\n",
            "Question: 1989년 6월 30일 평양축전에 대표로 파견 된 인물은?\n",
            "Predicted answer: 임수경\n",
            "Actual answer: 임수경\n",
            "\n",
            "Example 3:\n",
            "Context: 1989년 2월 15일 여의도 농민 폭력 시위를 주도한 혐의(폭력행위등처벌에관한법률위반)으로 지명수배되었다. 1989년 3월 12일 서울지방검찰청 공안부는 임종석의 사전구속영장을 발부받았다. 같은 해 6월 30일 평양축전에 임수경을 대표로 파견하여 국가보안법위반 혐의가 추가되었다. 경찰은 12월 18일~20일 사이 서울 경희대학교에서 임종석이 성명 발표를 추진하고 있다는 첩보를 입수했고, 12월 18일 오전 7시 40분 경 가스총과 전자봉으로 무장한 특공조 및 대공과 직원 12명 등 22명의 사복 경찰을 승용차 8대에 나누어 경희대학교에 투입했다. 1989년 12월 18일 오전 8시 15분 경 서울청량리경찰서는 호위 학생 5명과 함께 경희대학교 학생회관 건물 계단을 내려오는 임종석을 발견, 검거해 구속을 집행했다. 임종석은 청량리경찰서에서 약 1시간 동안 조사를 받은 뒤 오전 9시 50분 경 서울 장안동의 서울지방경찰청 공안분실로 인계되었다.\n",
            "Question: 임종석이 여의도 농민 폭력 시위를 주도한 혐의로 지명수배된 연도는?\n",
            "Predicted answer: 1989년\n",
            "Actual answer: 1989년\n",
            "\n",
            "Example 4:\n",
            "Context: 1989년 2월 15일 여의도 농민 폭력 시위를 주도한 혐의(폭력행위등처벌에관한법률위반)으로 지명수배되었다. 1989년 3월 12일 서울지방검찰청 공안부는 임종석의 사전구속영장을 발부받았다. 같은 해 6월 30일 평양축전에 임수경을 대표로 파견하여 국가보안법위반 혐의가 추가되었다. 경찰은 12월 18일~20일 사이 서울 경희대학교에서 임종석이 성명 발표를 추진하고 있다는 첩보를 입수했고, 12월 18일 오전 7시 40분 경 가스총과 전자봉으로 무장한 특공조 및 대공과 직원 12명 등 22명의 사복 경찰을 승용차 8대에 나누어 경희대학교에 투입했다. 1989년 12월 18일 오전 8시 15분 경 서울청량리경찰서는 호위 학생 5명과 함께 경희대학교 학생회관 건물 계단을 내려오는 임종석을 발견, 검거해 구속을 집행했다. 임종석은 청량리경찰서에서 약 1시간 동안 조사를 받은 뒤 오전 9시 50분 경 서울 장안동의 서울지방경찰청 공안분실로 인계되었다.\n",
            "Question: 임종석을 검거한 장소는 경희대 내 어디인가?\n",
            "Predicted answer: 서울청량리경찰서\n",
            "Actual answer: 학생회관 건물 계단\n",
            "\n",
            "Example 5:\n",
            "Context: 1989년 2월 15일 여의도 농민 폭력 시위를 주도한 혐의(폭력행위등처벌에관한법률위반)으로 지명수배되었다. 1989년 3월 12일 서울지방검찰청 공안부는 임종석의 사전구속영장을 발부받았다. 같은 해 6월 30일 평양축전에 임수경을 대표로 파견하여 국가보안법위반 혐의가 추가되었다. 경찰은 12월 18일~20일 사이 서울 경희대학교에서 임종석이 성명 발표를 추진하고 있다는 첩보를 입수했고, 12월 18일 오전 7시 40분 경 가스총과 전자봉으로 무장한 특공조 및 대공과 직원 12명 등 22명의 사복 경찰을 승용차 8대에 나누어 경희대학교에 투입했다. 1989년 12월 18일 오전 8시 15분 경 서울청량리경찰서는 호위 학생 5명과 함께 경희대학교 학생회관 건물 계단을 내려오는 임종석을 발견, 검거해 구속을 집행했다. 임종석은 청량리경찰서에서 약 1시간 동안 조사를 받은 뒤 오전 9시 50분 경 서울 장안동의 서울지방경찰청 공안분실로 인계되었다.\n",
            "Question: 임종석이 조사를 받은 뒤 인계된 곳은 어딘가?\n",
            "Predicted answer: 서울지방경찰청 공안분실\n",
            "Actual answer: 서울지방경찰청 공안분실\n",
            "\n",
            "Example 6:\n",
            "Context: 1989년 2월 15일 여의도 농민 폭력 시위를 주도한 혐의(폭력행위등처벌에관한법률위반)으로 지명수배되었다. 1989년 3월 12일 서울지방검찰청 공안부는 임종석의 사전구속영장을 발부받았다. 같은 해 6월 30일 평양축전에 임수경을 대표로 파견하여 국가보안법위반 혐의가 추가되었다. 경찰은 12월 18일~20일 사이 서울 경희대학교에서 임종석이 성명 발표를 추진하고 있다는 첩보를 입수했고, 12월 18일 오전 7시 40분 경 가스총과 전자봉으로 무장한 특공조 및 대공과 직원 12명 등 22명의 사복 경찰을 승용차 8대에 나누어 경희대학교에 투입했다. 1989년 12월 18일 오전 8시 15분 경 서울청량리경찰서는 호위 학생 5명과 함께 경희대학교 학생회관 건물 계단을 내려오는 임종석을 발견, 검거해 구속을 집행했다. 임종석은 청량리경찰서에서 약 1시간 동안 조사를 받은 뒤 오전 9시 50분 경 서울 장안동의 서울지방경찰청 공안분실로 인계되었다.\n",
            "Question: 1989년 2월 15일 여의도 농민 폭력 시위를 주도한 혐의로 지명수배된 사람의 이름은?\n",
            "Predicted answer: 임종석\n",
            "Actual answer: 임종석\n",
            "\n",
            "Example 7:\n",
            "Context: 1989년 2월 15일 여의도 농민 폭력 시위를 주도한 혐의(폭력행위등처벌에관한법률위반)으로 지명수배되었다. 1989년 3월 12일 서울지방검찰청 공안부는 임종석의 사전구속영장을 발부받았다. 같은 해 6월 30일 평양축전에 임수경을 대표로 파견하여 국가보안법위반 혐의가 추가되었다. 경찰은 12월 18일~20일 사이 서울 경희대학교에서 임종석이 성명 발표를 추진하고 있다는 첩보를 입수했고, 12월 18일 오전 7시 40분 경 가스총과 전자봉으로 무장한 특공조 및 대공과 직원 12명 등 22명의 사복 경찰을 승용차 8대에 나누어 경희대학교에 투입했다. 1989년 12월 18일 오전 8시 15분 경 서울청량리경찰서는 호위 학생 5명과 함께 경희대학교 학생회관 건물 계단을 내려오는 임종석을 발견, 검거해 구속을 집행했다. 임종석은 청량리경찰서에서 약 1시간 동안 조사를 받은 뒤 오전 9시 50분 경 서울 장안동의 서울지방경찰청 공안분실로 인계되었다.\n",
            "Question: 임종석이 1989년 2월 15일에 지명수배 받은 혐의는 어떤 시위를 주도했다는 것인가?\n",
            "Predicted answer: 여의도 농민 폭력 시위\n",
            "Actual answer: 여의도 농민 폭력 시위\n",
            "\n",
            "Example 8:\n",
            "Context: \"내각과 장관들이 소외되고 대통령비서실의 권한이 너무 크다\", \"행보가 비서 본연의 역할을 벗어난다\"는 의견이 제기되었다. 대표적인 예가 10차 개헌안 발표이다. 원로 헌법학자인 허영 경희대 석좌교수는 정부의 헌법개정안 준비 과정에 대해 \"청와대 비서실이 아닌 국무회의 중심으로 이뤄졌어야 했다\"고 지적했다. '국무회의의 심의를 거쳐야 한다'(제89조)는 헌법 규정에 충실하지 않았다는 것이다. 그러면서 \"법무부 장관을 제쳐놓고 민정수석이 개정안을 설명하는 게 이해가 안 된다\"고 지적했다. 민정수석은 국회의원에 대해 책임지는 법무부 장관도 아니고, 국민에 대해 책임지는 사람도 아니기 때문에 정당성이 없고, 단지 대통령의 신임이 있을 뿐이라는 것이다. 또한 국무총리 선출 방식에 대한 기자의 질문에 \"문 대통령도 취임 전에 국무총리에게 실질적 권한을 주겠다고 했지만 그러지 못하고 있다. 대통령비서실장만도 못한 권한을 행사하고 있다.\"고 답변했다.\n",
            "Question: 정부의 헌법개정안 준비 과정에 대해서 청와대 비서실이 아니라 국무회의 중심으로 이뤄졌어야 했다고 지적한 원로 헌법학자는?\n",
            "Predicted answer: 허영\n",
            "Actual answer: 허영\n",
            "\n",
            "Example 9:\n",
            "Context: \"내각과 장관들이 소외되고 대통령비서실의 권한이 너무 크다\", \"행보가 비서 본연의 역할을 벗어난다\"는 의견이 제기되었다. 대표적인 예가 10차 개헌안 발표이다. 원로 헌법학자인 허영 경희대 석좌교수는 정부의 헌법개정안 준비 과정에 대해 \"청와대 비서실이 아닌 국무회의 중심으로 이뤄졌어야 했다\"고 지적했다. '국무회의의 심의를 거쳐야 한다'(제89조)는 헌법 규정에 충실하지 않았다는 것이다. 그러면서 \"법무부 장관을 제쳐놓고 민정수석이 개정안을 설명하는 게 이해가 안 된다\"고 지적했다. 민정수석은 국회의원에 대해 책임지는 법무부 장관도 아니고, 국민에 대해 책임지는 사람도 아니기 때문에 정당성이 없고, 단지 대통령의 신임이 있을 뿐이라는 것이다. 또한 국무총리 선출 방식에 대한 기자의 질문에 \"문 대통령도 취임 전에 국무총리에게 실질적 권한을 주겠다고 했지만 그러지 못하고 있다. 대통령비서실장만도 못한 권한을 행사하고 있다.\"고 답변했다.\n",
            "Question: '행보가 비서 본연의 역할을 벗어난다', '장관들과 내각이 소외되고 대통령비서실의 권한이 너무 크다'는 의견이 제기된 대표적인 예는?\n",
            "Predicted answer: 10차 개헌안 발표\n",
            "Actual answer: 10차 개헌안 발표\n",
            "\n",
            "Example 10:\n",
            "Context: \"내각과 장관들이 소외되고 대통령비서실의 권한이 너무 크다\", \"행보가 비서 본연의 역할을 벗어난다\"는 의견이 제기되었다. 대표적인 예가 10차 개헌안 발표이다. 원로 헌법학자인 허영 경희대 석좌교수는 정부의 헌법개정안 준비 과정에 대해 \"청와대 비서실이 아닌 국무회의 중심으로 이뤄졌어야 했다\"고 지적했다. '국무회의의 심의를 거쳐야 한다'(제89조)는 헌법 규정에 충실하지 않았다는 것이다. 그러면서 \"법무부 장관을 제쳐놓고 민정수석이 개정안을 설명하는 게 이해가 안 된다\"고 지적했다. 민정수석은 국회의원에 대해 책임지는 법무부 장관도 아니고, 국민에 대해 책임지는 사람도 아니기 때문에 정당성이 없고, 단지 대통령의 신임이 있을 뿐이라는 것이다. 또한 국무총리 선출 방식에 대한 기자의 질문에 \"문 대통령도 취임 전에 국무총리에게 실질적 권한을 주겠다고 했지만 그러지 못하고 있다. 대통령비서실장만도 못한 권한을 행사하고 있다.\"고 답변했다.\n",
            "Question: 국무회의의 심의를 거쳐야 한다는 헌법 제 몇 조의 내용인가?\n",
            "Predicted answer: 제89조\n",
            "Actual answer: 제89조\n",
            "\n",
            "Example 11:\n",
            "Context: \"내각과 장관들이 소외되고 대통령비서실의 권한이 너무 크다\", \"행보가 비서 본연의 역할을 벗어난다\"는 의견이 제기되었다. 대표적인 예가 10차 개헌안 발표이다. 원로 헌법학자인 허영 경희대 석좌교수는 정부의 헌법개정안 준비 과정에 대해 \"청와대 비서실이 아닌 국무회의 중심으로 이뤄졌어야 했다\"고 지적했다. '국무회의의 심의를 거쳐야 한다'(제89조)는 헌법 규정에 충실하지 않았다는 것이다. 그러면서 \"법무부 장관을 제쳐놓고 민정수석이 개정안을 설명하는 게 이해가 안 된다\"고 지적했다. 민정수석은 국회의원에 대해 책임지는 법무부 장관도 아니고, 국민에 대해 책임지는 사람도 아니기 때문에 정당성이 없고, 단지 대통령의 신임이 있을 뿐이라는 것이다. 또한 국무총리 선출 방식에 대한 기자의 질문에 \"문 대통령도 취임 전에 국무총리에게 실질적 권한을 주겠다고 했지만 그러지 못하고 있다. 대통령비서실장만도 못한 권한을 행사하고 있다.\"고 답변했다.\n",
            "Question: 법무부 장관을 제쳐놓고 민정수석이 개정안을 설명하는 게 이해가 안 된다고 지적한 경희대 석좌교수 이름은?\n",
            "Predicted answer: 허영\n",
            "Actual answer: 허영\n",
            "\n",
            "Example 12:\n",
            "Context: 알렉산더 메이그스 헤이그 2세(영어: Alexander Meigs Haig, Jr., 1924년 12월 2일 ~ 2010년 2월 20일)는 미국의 국무 장관을 지낸 미국의 군인, 관료 및 정치인이다. 로널드 레이건 대통령 밑에서 국무장관을 지냈으며, 리처드 닉슨과 제럴드 포드 대통령 밑에서 백악관 비서실장을 지냈다. 또한 그는 미국 군대에서 2번째로 높은 직위인 미국 육군 부참모 총장과 나토 및 미국 군대의 유럽연합군 최고사령관이었다. 한국 전쟁 시절 더글러스 맥아더 유엔군 사령관의 참모로 직접 참전하였으며, 로널드 레이건 정부 출범당시 초대 국무장관직을 맡아 1980년대 대한민국과 미국의 관계를 조율해 왔다. 저서로 회고록 《경고:현실주의, 레이건과 외교 정책》(1984년 발간)이 있다.\n",
            "Question: 미국 군대 내 두번째로 높은 직위는 무엇인가?\n",
            "Predicted answer: 미국 육군 부참모 총장\n",
            "Actual answer: 미국 육군 부참모 총장\n",
            "\n",
            "Example 13:\n",
            "Context: 알렉산더 메이그스 헤이그 2세(영어: Alexander Meigs Haig, Jr., 1924년 12월 2일 ~ 2010년 2월 20일)는 미국의 국무 장관을 지낸 미국의 군인, 관료 및 정치인이다. 로널드 레이건 대통령 밑에서 국무장관을 지냈으며, 리처드 닉슨과 제럴드 포드 대통령 밑에서 백악관 비서실장을 지냈다. 또한 그는 미국 군대에서 2번째로 높은 직위인 미국 육군 부참모 총장과 나토 및 미국 군대의 유럽연합군 최고사령관이었다. 한국 전쟁 시절 더글러스 맥아더 유엔군 사령관의 참모로 직접 참전하였으며, 로널드 레이건 정부 출범당시 초대 국무장관직을 맡아 1980년대 대한민국과 미국의 관계를 조율해 왔다. 저서로 회고록 《경고:현실주의, 레이건과 외교 정책》(1984년 발간)이 있다.\n",
            "Question: 로널드 레이건 정부 출범 당시 알렉산더 헤이그는 어떤 직책을 맡았는가?\n",
            "Predicted answer: 국무장관직\n",
            "Actual answer: 초대 국무장관직\n",
            "\n",
            "Example 14:\n",
            "Context: 알렉산더 메이그스 헤이그 2세(영어: Alexander Meigs Haig, Jr., 1924년 12월 2일 ~ 2010년 2월 20일)는 미국의 국무 장관을 지낸 미국의 군인, 관료 및 정치인이다. 로널드 레이건 대통령 밑에서 국무장관을 지냈으며, 리처드 닉슨과 제럴드 포드 대통령 밑에서 백악관 비서실장을 지냈다. 또한 그는 미국 군대에서 2번째로 높은 직위인 미국 육군 부참모 총장과 나토 및 미국 군대의 유럽연합군 최고사령관이었다. 한국 전쟁 시절 더글러스 맥아더 유엔군 사령관의 참모로 직접 참전하였으며, 로널드 레이건 정부 출범당시 초대 국무장관직을 맡아 1980년대 대한민국과 미국의 관계를 조율해 왔다. 저서로 회고록 《경고:현실주의, 레이건과 외교 정책》(1984년 발간)이 있다.\n",
            "Question: 알렉산더 헤이그는 어느 대통령의 밑에서 국무장관을 지냈는가?\n",
            "Predicted answer: 로널드 레이건\n",
            "Actual answer: 로널드 레이건 대통령\n",
            "\n",
            "Example 15:\n",
            "Context: 알렉산더 메이그스 헤이그 2세(영어: Alexander Meigs Haig, Jr., 1924년 12월 2일 ~ 2010년 2월 20일)는 미국의 국무 장관을 지낸 미국의 군인, 관료 및 정치인이다. 로널드 레이건 대통령 밑에서 국무장관을 지냈으며, 리처드 닉슨과 제럴드 포드 대통령 밑에서 백악관 비서실장을 지냈다. 또한 그는 미국 군대에서 2번째로 높은 직위인 미국 육군 부참모 총장과 나토 및 미국 군대의 유럽연합군 최고사령관이었다. 한국 전쟁 시절 더글러스 맥아더 유엔군 사령관의 참모로 직접 참전하였으며, 로널드 레이건 정부 출범당시 초대 국무장관직을 맡아 1980년대 대한민국과 미국의 관계를 조율해 왔다. 저서로 회고록 《경고:현실주의, 레이건과 외교 정책》(1984년 발간)이 있다.\n",
            "Question: 로널드 레이건 대통령 밑에서 일한 국무 장관은 누구인가?\n",
            "Predicted answer: 알렉산더 메이그스 헤이그 2세\n",
            "Actual answer: 알렉산더 메이그스 헤이그 2세\n",
            "\n",
            "Example 16:\n",
            "Context: 알렉산더 메이그스 헤이그 2세(영어: Alexander Meigs Haig, Jr., 1924년 12월 2일 ~ 2010년 2월 20일)는 미국의 국무 장관을 지낸 미국의 군인, 관료 및 정치인이다. 로널드 레이건 대통령 밑에서 국무장관을 지냈으며, 리처드 닉슨과 제럴드 포드 대통령 밑에서 백악관 비서실장을 지냈다. 또한 그는 미국 군대에서 2번째로 높은 직위인 미국 육군 부참모 총장과 나토 및 미국 군대의 유럽연합군 최고사령관이었다. 한국 전쟁 시절 더글러스 맥아더 유엔군 사령관의 참모로 직접 참전하였으며, 로널드 레이건 정부 출범당시 초대 국무장관직을 맡아 1980년대 대한민국과 미국의 관계를 조율해 왔다. 저서로 회고록 《경고:현실주의, 레이건과 외교 정책》(1984년 발간)이 있다.\n",
            "Question: 미국 군대에서 두번째로 높은 직위는?\n",
            "Predicted answer: 미국 육군 부참모 총장\n",
            "Actual answer: 미국 육군 부참모 총장\n",
            "\n",
            "Example 17:\n",
            "Context: 알렉산더 메이그스 헤이그 2세(영어: Alexander Meigs Haig, Jr., 1924년 12월 2일 ~ 2010년 2월 20일)는 미국의 국무 장관을 지낸 미국의 군인, 관료 및 정치인이다. 로널드 레이건 대통령 밑에서 국무장관을 지냈으며, 리처드 닉슨과 제럴드 포드 대통령 밑에서 백악관 비서실장을 지냈다. 또한 그는 미국 군대에서 2번째로 높은 직위인 미국 육군 부참모 총장과 나토 및 미국 군대의 유럽연합군 최고사령관이었다. 한국 전쟁 시절 더글러스 맥아더 유엔군 사령관의 참모로 직접 참전하였으며, 로널드 레이건 정부 출범당시 초대 국무장관직을 맡아 1980년대 대한민국과 미국의 관계를 조율해 왔다. 저서로 회고록 《경고:현실주의, 레이건과 외교 정책》(1984년 발간)이 있다.\n",
            "Question: 알렉산더 메이그스 헤이그의 생년월일은?\n",
            "Predicted answer: 1924년 12월 2일\n",
            "Actual answer: 1924년 12월 2일\n",
            "\n",
            "Example 18:\n",
            "Context: 알렉산더 메이그스 헤이그 2세(영어: Alexander Meigs Haig, Jr., 1924년 12월 2일 ~ 2010년 2월 20일)는 미국의 국무 장관을 지낸 미국의 군인, 관료 및 정치인이다. 로널드 레이건 대통령 밑에서 국무장관을 지냈으며, 리처드 닉슨과 제럴드 포드 대통령 밑에서 백악관 비서실장을 지냈다. 또한 그는 미국 군대에서 2번째로 높은 직위인 미국 육군 부참모 총장과 나토 및 미국 군대의 유럽연합군 최고사령관이었다. 한국 전쟁 시절 더글러스 맥아더 유엔군 사령관의 참모로 직접 참전하였으며, 로널드 레이건 정부 출범당시 초대 국무장관직을 맡아 1980년대 대한민국과 미국의 관계를 조율해 왔다. 저서로 회고록 《경고:현실주의, 레이건과 외교 정책》(1984년 발간)이 있다.\n",
            "Question: 알렉산더 헤이그가 로널드 레이건 대통령 밑에서 맡은 직책은 무엇이었나?\n",
            "Predicted answer: 국무장관\n",
            "Actual answer: 국무장관\n",
            "\n",
            "Example 19:\n",
            "Context: 알렉산더 메이그스 헤이그 2세(영어: Alexander Meigs Haig, Jr., 1924년 12월 2일 ~ 2010년 2월 20일)는 미국의 국무 장관을 지낸 미국의 군인, 관료 및 정치인이다. 로널드 레이건 대통령 밑에서 국무장관을 지냈으며, 리처드 닉슨과 제럴드 포드 대통령 밑에서 백악관 비서실장을 지냈다. 또한 그는 미국 군대에서 2번째로 높은 직위인 미국 육군 부참모 총장과 나토 및 미국 군대의 유럽연합군 최고사령관이었다. 한국 전쟁 시절 더글러스 맥아더 유엔군 사령관의 참모로 직접 참전하였으며, 로널드 레이건 정부 출범당시 초대 국무장관직을 맡아 1980년대 대한민국과 미국의 관계를 조율해 왔다. 저서로 회고록 《경고:현실주의, 레이건과 외교 정책》(1984년 발간)이 있다.\n",
            "Question: 알렉산더 헤이그가 1984년 발간한 회고록의 제목은 무엇인가?\n",
            "Predicted answer: 경고 : 현실주의, 레이건과 외교 정책\n",
            "Actual answer: 경고:현실주의, 레이건과 외교 정책\n",
            "\n",
            "Example 20:\n",
            "Context: 노터데임 대학교에서 2년간 합리적으로 심각한 공부를 한 후 헤이그는 1944년 미국 육군사관학교로 임명을 획득하여 자신의 어린 시절을 군사 경력의 야망으로 알아챘다. 그 경력은 헤이그의 학문적 경연이 암시하려고 한것보다 더욱 극적이었으며 그는 1947년 310의 동기병에서 217번째 사관으로서 졸업하였다. 22세의 소위로 헤이그는 처음에 캔자스 주 포트라일리에서 정통 제병 연합부대로, 그러고나서 켄터키 주 포트녹스에 있는 기갑 훈련소로 갔다. 그후에 그는 제1 기병 사단으로 선임되고 그러고나서 일본에서 점령군의 임무와 기력이 없는 훈련을 하였다. 그는 1950년 5월 한번 자신의 사령관 알론조 폭스 장군의 딸 퍼트리샤 앤토이넷 폭스와 결혼하여 슬하 3명의 자식을 두었다.\n",
            "Question: 알렉산더 헤이그와 1950년 5월 결혼한 상대의 이름은 무엇인가?\n",
            "Predicted answer: 퍼트리샤 앤토이넷 폭스\n",
            "Actual answer: 퍼트리샤 앤토이넷 폭스\n",
            "\n"
          ]
        }
      ],
      "source": [
        "for i in range(20):\n",
        "    start_index = torch.argmax(torch.tensor(start_logits[i])).item()\n",
        "    end_index = torch.argmax(torch.tensor(end_logits[i])).item()\n",
        "\n",
        "    predicted_answer = tokenizer.decode(tokenized_datasets[\"validation\"][i]['input_ids'][start_index:end_index+1])\n",
        "\n",
        "    original_example = original_dataset[i]\n",
        "    context = original_example['context']\n",
        "    question = original_example['question']\n",
        "    actual_answer = original_example['answers']['text'][0]\n",
        "\n",
        "    print(f\"Example {i+1}:\")\n",
        "    print(f\"Context: {context}\")\n",
        "    print(f\"Question: {question}\")\n",
        "    print(f\"Predicted answer: {predicted_answer}\")\n",
        "    print(f\"Actual answer: {actual_answer}\")\n",
        "    print()"
      ]
    },
    {
      "cell_type": "markdown",
      "source": [
        "# 4. 결과 분석 및 고찰\n",
        "\n",
        "klue/bert-base를 로딩했을 때 모델의 마지막 prediction weight가 초기화되어 해당 task에 맞게 훈련되어야 한다는 경고가 발생했습니다. finetuning을 진행한 결과 모델이 높은 예측 정확도를 보이는 것을 확인하였습니다.\n",
        "\n",
        "위의 예시를 보면 거의 모든 답을 맞추거나 정답이 '로널드 레이건 대통령'이면 '로널드 레이건'을 예측한다는 등 아쉽게 틀린 것도 있었습니다. 이를 통해 모델이 task에 대해 이해를 잘 하고 있음을 알 수 있었고, transformer 모델의 위력을 확인할 수 있었습니다.\n",
        "\n",
        "Validation loss가 계속해서 증가해서 성능을 기대하지 않았음에도 불구하고 높은 정확도를 보여 성능을 개선할 여지가 있음을 느꼈습니다.\n",
        "\n",
        "또한, tokenizing의 중요성을 깨닫게 되었습니다. 문장이 길어질 경우 단순히 잘라내는 방법만 생각했는데, 슬라이딩 윈도우 방식을 통해 잘린 부분도 학습할 수 있도록 하는 접근이 인상적이었습니다.\n",
        "\n",
        "이 과제를 통해 LLM 태스크를 수행할 때 데이터 전처리가 얼마나 중요한지를 깊이 있게 이해할 수 있었습니다."
      ],
      "metadata": {
        "id": "nF7Vp1UWj4L5"
      },
      "id": "nF7Vp1UWj4L5"
    }
  ],
  "metadata": {
    "kernelspec": {
      "display_name": "Python 3.10",
      "language": "python",
      "name": "python3"
    },
    "language_info": {
      "codemirror_mode": {
        "name": "ipython",
        "version": 3
      },
      "file_extension": ".py",
      "mimetype": "text/x-python",
      "name": "python",
      "nbconvert_exporter": "python",
      "pygments_lexer": "ipython3",
      "version": "3.10.12"
    },
    "colab": {
      "provenance": []
    }
  },
  "nbformat": 4,
  "nbformat_minor": 5
}